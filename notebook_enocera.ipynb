{
 "cells": [
  {
   "cell_type": "markdown",
   "id": "df579a40",
   "metadata": {},
   "source": [
    "# PREAMBLE\n",
    "<script\n",
    "  src=\"https://cdn.mathjax.org/mathjax/latest/MathJax.js?config=TeX-AMS-MML_HTMLorMML\"\n",
    "  type=\"text/javascript\">\n",
    "</script>"
   ]
  },
  {
   "cell_type": "code",
   "execution_count": null,
   "id": "226dc610",
   "metadata": {},
   "outputs": [],
   "source": [
    "import numpy as np\n",
    "import pandas as pd\n",
    "import numpy.linalg as la\n",
    "import seaborn as sns\n",
    "sns.set()\n",
    "sns.set_style(\"ticks\")\n",
    "from validphys.api import API\n",
    "from validphys.loader import Loader\n",
    "from matplotlib import pyplot as plt\n",
    "from matplotlib import cm\n",
    "l = Loader()"
   ]
  },
  {
   "cell_type": "markdown",
   "id": "06c28e66",
   "metadata": {},
   "source": [
    "# COMPUTATION OF $\\alpha_s$"
   ]
  },
  {
   "cell_type": "markdown",
   "id": "85af2b80",
   "metadata": {},
   "source": [
    "Definition of the input"
   ]
  },
  {
   "cell_type": "code",
   "execution_count": null,
   "id": "377309ca",
   "metadata": {},
   "outputs": [],
   "source": [
    "#Fit and PDFs (used in fit)\n",
    "fit=\"221203-ern-001\"\n",
    "pdf_ori=\"NNPDF40_nnlo_as_01180\"\n",
    "pdf_fit=\"221203-ern-001\""
   ]
  },
  {
   "cell_type": "code",
   "execution_count": null,
   "id": "c9d93689",
   "metadata": {},
   "outputs": [],
   "source": [
    "#Inputs for central theory: alphas=0.118\n",
    "inps_central = dict(dataset_inputs={\"from_\": \"fit\"},\n",
    "            fit=fit,\n",
    "            theoryid=200,\n",
    "            use_cuts=\"fromfit\",\n",
    "            pdf=pdf_ori)"
   ]
  },
  {
   "cell_type": "code",
   "execution_count": null,
   "id": "38edc41f",
   "metadata": {},
   "outputs": [],
   "source": [
    "#Inputs for plus theory: alphas=0.120\n",
    "inps_plus = dict(dataset_inputs={\"from_\": \"fit\"},\n",
    "            fit=fit,\n",
    "            theoryid=207,\n",
    "            use_cuts=\"fromfit\",\n",
    "            pdf=pdf_ori)"
   ]
  },
  {
   "cell_type": "code",
   "execution_count": null,
   "id": "e289c8d4",
   "metadata": {},
   "outputs": [],
   "source": [
    "#Inputs for minus theory: alphas=0.116\n",
    "inps_minus = dict(dataset_inputs={\"from_\": \"fit\"},\n",
    "            fit=fit,\n",
    "            theoryid=201,\n",
    "            use_cuts=\"fromfit\",\n",
    "            pdf=pdf_ori)"
   ]
  },
  {
   "cell_type": "code",
   "execution_count": null,
   "id": "ecd0a8e5",
   "metadata": {},
   "outputs": [],
   "source": [
    "#Inputs for central theory: alphas=0.118\n",
    "inps_central_fit = dict(dataset_inputs={\"from_\": \"fit\"},\n",
    "            fit=fit,\n",
    "            theoryid=200,\n",
    "            use_cuts=\"fromfit\",\n",
    "            pdf={\"from_\": \"fit\"})"
   ]
  },
  {
   "cell_type": "code",
   "execution_count": null,
   "id": "b80a7c03",
   "metadata": {
    "scrolled": true
   },
   "outputs": [],
   "source": [
    "#Experimental covariance matrix\n",
    "C = API.groups_covmat(**inps_central)"
   ]
  },
  {
   "cell_type": "code",
   "execution_count": null,
   "id": "3cf05ac3",
   "metadata": {},
   "outputs": [],
   "source": [
    "#Indexes\n",
    "dsindex=API.groups_index(**inps_central)"
   ]
  },
  {
   "cell_type": "code",
   "execution_count": null,
   "id": "758cdc8a",
   "metadata": {
    "scrolled": true
   },
   "outputs": [],
   "source": [
    "datth_central = API.group_result_table_no_table(**inps_central)"
   ]
  },
  {
   "cell_type": "code",
   "execution_count": null,
   "id": "17d8f476",
   "metadata": {
    "scrolled": false
   },
   "outputs": [],
   "source": [
    "datth_plus = API.group_result_table_no_table(**inps_plus)"
   ]
  },
  {
   "cell_type": "code",
   "execution_count": null,
   "id": "1ad88c90",
   "metadata": {},
   "outputs": [],
   "source": [
    "datth_minus = API.group_result_table_no_table(**inps_minus)"
   ]
  },
  {
   "cell_type": "code",
   "execution_count": null,
   "id": "c6c904ce",
   "metadata": {},
   "outputs": [],
   "source": [
    "datth_central_fit = API.group_result_table_no_table(**inps_central_fit)"
   ]
  },
  {
   "cell_type": "code",
   "execution_count": null,
   "id": "ed24f68d",
   "metadata": {},
   "outputs": [],
   "source": [
    "dat_central=datth_central[\"data_central\"]\n",
    "th_central=datth_central[\"theory_central\"]\n",
    "th_replicas=datth_central.iloc[:,2:102].to_numpy()\n",
    "th_central_fit=datth_central_fit[\"theory_central\"]\n",
    "th_replicas_fit=datth_central_fit.iloc[:,2:102].to_numpy()"
   ]
  },
  {
   "cell_type": "markdown",
   "id": "d4717875",
   "metadata": {},
   "source": [
    "Computation of Eqs.(3.37)-(3.38) in [arXiv:2105.05114](https://arxiv.org/pdf/2105.05114.pdf)"
   ]
  },
  {
   "cell_type": "code",
   "execution_count": null,
   "id": "9438573b",
   "metadata": {},
   "outputs": [],
   "source": [
    "beta_tilde = (0.002/np.sqrt(2))*np.array([1,-1])\n",
    "S_tilde = beta_tilde.T@beta_tilde"
   ]
  },
  {
   "cell_type": "code",
   "execution_count": null,
   "id": "639ca971",
   "metadata": {},
   "outputs": [],
   "source": [
    "delta_plus  = (1/np.sqrt(2))*(datth_plus[\"theory_central\"] - datth_central[\"theory_central\"]).to_numpy()\n",
    "delta_minus = (1/np.sqrt(2))*(datth_minus[\"theory_central\"] - datth_central[\"theory_central\"]).to_numpy()\n",
    "beta = [delta_plus,delta_minus]\n",
    "S_hat = beta_tilde.T@beta"
   ]
  },
  {
   "cell_type": "code",
   "execution_count": null,
   "id": "033d6b07",
   "metadata": {},
   "outputs": [],
   "source": [
    "S = np.outer(delta_plus,delta_plus)+np.outer(delta_minus,delta_minus)\n",
    "S = pd.DataFrame(S,index=dsindex,columns=dsindex)\n",
    "S = pd.DataFrame(S.values, index=C.index, columns=C.index)"
   ]
  },
  {
   "cell_type": "code",
   "execution_count": null,
   "id": "b327050e",
   "metadata": {},
   "outputs": [],
   "source": [
    "invcov = la.inv(C+S)"
   ]
  },
  {
   "cell_type": "code",
   "execution_count": null,
   "id": "a05e4850",
   "metadata": {},
   "outputs": [],
   "source": [
    "X = np.zeros_like(C.values)\n",
    "for i in range(th_replicas_fit.shape[1]):\n",
    "    X = X + 1/len(th_central_fit) * np.outer((th_replicas_fit[:,i]-th_central_fit),(th_replicas_fit[:,i]-th_central_fit))"
   ]
  },
  {
   "cell_type": "markdown",
   "id": "f1c91ed5",
   "metadata": {},
   "source": [
    "Final result"
   ]
  },
  {
   "cell_type": "code",
   "execution_count": null,
   "id": "3b0e8a15",
   "metadata": {},
   "outputs": [],
   "source": [
    "delta_T_tilde = S_hat@invcov@(dat_central-th_central_fit)\n",
    "P_tilde = S_hat.T@invcov@X@invcov@S_hat + (S_tilde - S_hat.T@invcov@S_hat)\n",
    "pred = 0.118 + delta_T_tilde\n",
    "unc  = np.sqrt(P_tilde) \n",
    "print(rf\"Prediction for $\\alpha_s$: {pred} +/- {unc}\")"
   ]
  }
 ],
 "metadata": {
  "kernelspec": {
   "display_name": "Python 3 (ipykernel)",
   "language": "python",
   "name": "python3"
  },
  "language_info": {
   "codemirror_mode": {
    "name": "ipython",
    "version": 3
   },
   "file_extension": ".py",
   "mimetype": "text/x-python",
   "name": "python",
   "nbconvert_exporter": "python",
   "pygments_lexer": "ipython3",
   "version": "3.9.7"
  }
 },
 "nbformat": 4,
 "nbformat_minor": 5
}
