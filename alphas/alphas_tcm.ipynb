{
 "cells": [
  {
   "cell_type": "markdown",
   "id": "df579a40",
   "metadata": {},
   "source": [
    "# PREAMBLE\n",
    "<script\n",
    "  src=\"https://cdn.mathjax.org/mathjax/latest/MathJax.js?config=TeX-AMS-MML_HTMLorMML\"\n",
    "  type=\"text/javascript\">\n",
    "</script>"
   ]
  },
  {
   "cell_type": "code",
   "execution_count": null,
   "id": "226dc610",
   "metadata": {},
   "outputs": [],
   "source": [
    "import numpy as np\n",
    "import pandas as pd\n",
    "import numpy.linalg as la\n",
    "from validphys.api import API\n",
    "from validphys.loader import FallbackLoader as Loader\n",
    "from matplotlib import pyplot as plt\n",
    "import yaml\n",
    "\n",
    "l = Loader()"
   ]
  },
  {
   "attachments": {},
   "cell_type": "markdown",
   "id": "85af2b80",
   "metadata": {},
   "source": [
    "# Definition of the input"
   ]
  },
  {
   "cell_type": "code",
   "execution_count": null,
   "id": "377309ca",
   "metadata": {},
   "outputs": [],
   "source": [
    "fit = \"240209-rs-01-nnpdf40-alphas-tcm\"\n",
    "\n",
    "theory_plus = 207\n",
    "theory_mid = 200\n",
    "theory_min = 201\n",
    "\n",
    "alphas_step_size = 0.002\n",
    "alphas_central = 0.118\n",
    "\n",
    "covmat_scaling_factor = 1"
   ]
  },
  {
   "cell_type": "markdown",
   "id": "06c28e66",
   "metadata": {},
   "source": [
    "# COMPUTATION OF $\\alpha_s$"
   ]
  },
  {
   "cell_type": "code",
   "execution_count": null,
   "id": "c9d93689",
   "metadata": {},
   "outputs": [],
   "source": [
    "fitpath = API.fit(fit=fit).path\n",
    "filterpath = fitpath / \"filter.yml\"\n",
    "\n",
    "with open(filterpath) as f:\n",
    "    filterfile = yaml.safe_load(f)\n",
    "pdf_ori = filterfile[\"theorycovmatconfig\"][\"pdf\"]\n",
    "\n",
    "common_dict = dict(\n",
    "    dataset_inputs={\"from_\": \"fit\"},\n",
    "    fit=fit,\n",
    "    fits=[fit],\n",
    "    use_cuts=\"fromfit\",\n",
    "    metadata_group=\"nnpdf31_process\",\n",
    ")\n",
    "\n",
    "# Inputs for central theory (used to construct the alphas covmat)\n",
    "inps_central = dict(\n",
    "    theoryid=theory_mid,\n",
    "    pdf=pdf_ori,\n",
    "    use_t0=True,\n",
    "    datacuts={\"from_\": \"fit\"},\n",
    "    t0pdfset={\"from_\": \"datacuts\"},\n",
    "    **common_dict\n",
    ")\n",
    "\n",
    "# Inputs for plus theory (used to construct the alphas covmat)\n",
    "inps_plus = dict(theoryid=theory_plus, pdf=pdf_ori, **common_dict)\n",
    "\n",
    "# Inputs for minus theory prediction (used to construct the alphas covmat)\n",
    "inps_minus = dict(theoryid=theory_min, pdf=pdf_ori, **common_dict)\n",
    "\n",
    "# inputs for the computation of the prediction of the fit with cov=C+S, where S is computed using the\n",
    "# inps_central, inps_plus, and inps_minus dictionaries\n",
    "inps_central_fit = dict(theoryid=theory_mid, pdf={\"from_\": \"fit\"}, **common_dict)"
   ]
  },
  {
   "cell_type": "code",
   "execution_count": null,
   "id": "758cdc8a",
   "metadata": {
    "scrolled": true
   },
   "outputs": [],
   "source": [
    "datth_central = API.groups_central_values_no_table(**inps_central)"
   ]
  },
  {
   "cell_type": "code",
   "execution_count": null,
   "id": "17d8f476",
   "metadata": {
    "scrolled": false
   },
   "outputs": [],
   "source": [
    "datth_plus = API.groups_central_values_no_table(**inps_plus)"
   ]
  },
  {
   "cell_type": "code",
   "execution_count": null,
   "id": "1ad88c90",
   "metadata": {},
   "outputs": [],
   "source": [
    "datth_minus = API.groups_central_values_no_table(**inps_minus)"
   ]
  },
  {
   "cell_type": "code",
   "execution_count": null,
   "id": "3179f33f",
   "metadata": {},
   "outputs": [],
   "source": [
    "beta_tilde = np.sqrt(covmat_scaling_factor) * (alphas_step_size / np.sqrt(2)) * np.array([1, -1])\n",
    "S_tilde = beta_tilde @ beta_tilde"
   ]
  },
  {
   "cell_type": "code",
   "execution_count": null,
   "id": "639ca971",
   "metadata": {},
   "outputs": [],
   "source": [
    "delta_plus = (np.sqrt(covmat_scaling_factor) / np.sqrt(2)) * (datth_plus - datth_central)\n",
    "delta_minus = (np.sqrt(covmat_scaling_factor) / np.sqrt(2)) * (\n",
    "    datth_minus - datth_central\n",
    ")\n",
    "\n",
    "beta = [delta_plus, delta_minus]\n",
    "S_hat = beta_tilde @ beta\n",
    "\n",
    "S = np.outer(delta_plus, delta_plus) + np.outer(delta_minus, delta_minus)\n",
    "S = pd.DataFrame(S, index=delta_minus.index, columns=delta_minus.index)"
   ]
  },
  {
   "cell_type": "code",
   "execution_count": null,
   "id": "fe666f4c",
   "metadata": {},
   "outputs": [],
   "source": [
    "try:\n",
    "    stored_covmat = pd.read_csv(\n",
    "        fitpath / \"tables/datacuts_theory_theorycovmatconfig_user_covmat.csv\",\n",
    "        sep=\"\\t\",\n",
    "        encoding=\"utf-8\",\n",
    "        index_col=2,\n",
    "        header=3,\n",
    "        skip_blank_lines=False,\n",
    "    )\n",
    "except FileNotFoundError:\n",
    "    stored_covmat = pd.read_csv(\n",
    "        fitpath / \"tables/datacuts_theory_theorycovmatconfig_theory_covmat_custom.csv\",\n",
    "        index_col=[0, 1, 2],\n",
    "        header=[0, 1, 2],\n",
    "        sep=\"\\t|,\",\n",
    "        engine=\"python\",\n",
    "    ).fillna(0)\n",
    "    storedcovmat_index = pd.MultiIndex.from_tuples(\n",
    "        [(aa, bb, np.int64(cc)) for aa, bb, cc in stored_covmat.index],\n",
    "        names=[\"group\", \"dataset\", \"id\"],\n",
    "    )  # make sure theoryID is an integer, same as in S\n",
    "    stored_covmat = pd.DataFrame(\n",
    "        stored_covmat.values, index=storedcovmat_index, columns=storedcovmat_index\n",
    "    )\n",
    "    stored_covmat = stored_covmat.reindex(S.index).T.reindex(S.index)\n",
    "\n",
    "if not np.allclose(S, stored_covmat):\n",
    "    print(\"Reconstructed theory covmat, S, is not the same as the stored covmat!\")"
   ]
  },
  {
   "cell_type": "code",
   "execution_count": null,
   "id": "4a0c1f2b",
   "metadata": {},
   "outputs": [],
   "source": [
    "# in case we'd like to save the covmat to be used in a fit\n",
    "# S.to_csv(\"alphascovmat_01190_extended_nnpdf40_without_nuclearuncs_ernfits_fixed.csv\")"
   ]
  },
  {
   "cell_type": "code",
   "execution_count": null,
   "id": "ac6553b1",
   "metadata": {},
   "outputs": [],
   "source": [
    "datth_central_fit = API.group_result_table_no_table(**inps_central_fit)\n",
    "th_replicas_fit = datth_central_fit.iloc[:, 2:].to_numpy()\n",
    "\n",
    "# Experimental covariance matrix\n",
    "C = API.groups_covmat(**inps_central)"
   ]
  },
  {
   "cell_type": "code",
   "execution_count": null,
   "id": "a05e4850",
   "metadata": {},
   "outputs": [],
   "source": [
    "# Different from the prediction of the mean PDF (i.e. replica0)\n",
    "mean_prediction = np.mean(th_replicas_fit[:], axis=1)\n",
    "\n",
    "X = np.zeros_like(C.values)\n",
    "for i in range(th_replicas_fit.shape[1]):\n",
    "    X += np.outer(\n",
    "        (th_replicas_fit[:, i] - mean_prediction), (th_replicas_fit[:, i] - mean_prediction)\n",
    "    )\n",
    "X *= 1 / th_replicas_fit.shape[1]"
   ]
  },
  {
   "cell_type": "code",
   "execution_count": null,
   "id": "308e7bd8",
   "metadata": {},
   "outputs": [],
   "source": [
    "pseudodata = API.read_pdf_pseudodata(**common_dict)"
   ]
  },
  {
   "cell_type": "code",
   "execution_count": null,
   "id": "f4ed15ab",
   "metadata": {},
   "outputs": [],
   "source": [
    "dat_central = np.mean(\n",
    "    [i.pseudodata.reindex(datth_central.index.to_list()).to_numpy().flatten() for i in pseudodata],\n",
    "    axis=0,\n",
    ")\n",
    "# dat_central = datth_central[\"data_central\"]"
   ]
  },
  {
   "cell_type": "code",
   "execution_count": null,
   "id": "3b0e8a15",
   "metadata": {},
   "outputs": [],
   "source": [
    "invcov = la.inv(C + S)\n",
    "delta_T_tilde = S_hat @ invcov @ (dat_central - mean_prediction)\n",
    "P_tilde = S_hat.T @ invcov @ X @ invcov @ S_hat + (S_tilde - S_hat.T @ invcov @ S_hat)\n",
    "pred = alphas_central + delta_T_tilde\n",
    "unc = np.sqrt(P_tilde)\n",
    "print(rf\"Prediction for $\\alpha_s$: {pred:.5f} ± {unc:.5f}\")"
   ]
  }
 ],
 "metadata": {
  "kernelspec": {
   "display_name": "nnpdf",
   "language": "python",
   "name": "python3"
  },
  "language_info": {
   "codemirror_mode": {
    "name": "ipython",
    "version": 3
   },
   "file_extension": ".py",
   "mimetype": "text/x-python",
   "name": "python",
   "nbconvert_exporter": "python",
   "pygments_lexer": "ipython3",
   "version": "3.9.18"
  },
  "vscode": {
   "interpreter": {
    "hash": "589e3134e9d89160e5ace28972e8dc0b682f48816407b59cbfdad217f6fb745b"
   }
  }
 },
 "nbformat": 4,
 "nbformat_minor": 5
}
