{
 "cells": [
  {
   "cell_type": "markdown",
   "id": "df579a40",
   "metadata": {},
   "source": [
    "# PREAMBLE\n",
    "<script\n",
    "  src=\"https://cdn.mathjax.org/mathjax/latest/MathJax.js?config=TeX-AMS-MML_HTMLorMML\"\n",
    "  type=\"text/javascript\">\n",
    "</script>"
   ]
  },
  {
   "cell_type": "code",
   "execution_count": 1,
   "id": "226dc610",
   "metadata": {},
   "outputs": [],
   "source": [
    "import numpy as np\n",
    "import pandas as pd\n",
    "import numpy.linalg as la\n",
    "from validphys.api import API\n",
    "from validphys.loader import FallbackLoader\n",
    "from matplotlib import pyplot as plt\n",
    "\n",
    "%matplotlib inline\n",
    "\n",
    "l = FallbackLoader()"
   ]
  },
  {
   "cell_type": "markdown",
   "id": "85af2b80",
   "metadata": {},
   "source": [
    "# Definition of the input"
   ]
  },
  {
   "cell_type": "code",
   "execution_count": 2,
   "id": "377309ca",
   "metadata": {},
   "outputs": [],
   "source": [
    "# fit = \"240221-02-rs-nnpdf40-alphas-tcm\"\n",
    "# fit = \"240221-01-rs-nnpdf40-alphas-tcm-mhou\"\n",
    "fit = '240306-ab-ct-alphas-tcm'\n",
    "mhou_fit = False\n",
    "fitname = \"240326-01-rs-alphas-newtcm\"\n",
    "\n",
    "theory_plus = 811\n",
    "theory_mid = 708\n",
    "theory_min = 804\n",
    "\n",
    "covmat_scaling_factor = 1"
   ]
  },
  {
   "cell_type": "markdown",
   "id": "06c28e66",
   "metadata": {},
   "source": [
    "# COMPUTATION OF $\\alpha_s$"
   ]
  },
  {
   "cell_type": "code",
   "execution_count": 3,
   "id": "c9d93689",
   "metadata": {},
   "outputs": [],
   "source": [
    "fit = API.fit(fit=fitname)\n",
    "\n",
    "pdf_ori = fit.as_input()[\"theorycovmatconfig\"][\"pdf\"]\n",
    "\n",
    "common_dict = dict(\n",
    "    dataset_inputs={\"from_\": \"fit\"},\n",
    "    fit=fit.name,\n",
    "    fits=[fit.name],\n",
    "    use_cuts=\"fromfit\",\n",
    "    metadata_group=\"nnpdf31_process\",\n",
    ")\n",
    "\n",
    "# Inputs for central theory (used to construct the alphas covmat)\n",
    "inps_central = dict(theoryid=theory_mid, pdf=pdf_ori, **common_dict)\n",
    "\n",
    "# Inputs for plus theory (used to construct the alphas covmat)\n",
    "inps_plus = dict(theoryid=theory_plus, pdf=pdf_ori, **common_dict)\n",
    "\n",
    "# Inputs for minus theory prediction (used to construct the alphas covmat)\n",
    "inps_minus = dict(theoryid=theory_min, pdf=pdf_ori, **common_dict)\n",
    "\n",
    "# inputs for the computation of the prediction of the fit with cov=C+S, where S is computed using the\n",
    "# inps_central, inps_plus, and inps_minus dictionaries\n",
    "inps_central_fit = dict(theoryid=theory_mid, pdf={\"from_\": \"fit\"}, **common_dict)"
   ]
  },
  {
   "cell_type": "code",
   "execution_count": 4,
   "id": "758cdc8a",
   "metadata": {
    "scrolled": true
   },
   "outputs": [
    {
     "name": "stderr",
     "output_type": "stream",
     "text": [
      "The PDF corresponding to the downloaded fit '231223-ab-baseline-nnlo-global-NNLOcuts_iterated' exists in the LHAPDF path. Will be erased and replaced with the new one.\n"
     ]
    },
    {
     "name": "stdout",
     "output_type": "stream",
     "text": [
      "LHAPDF 6.4.0 loading /Users/andrea/miniconda3/envs/nnpdf/share/LHAPDF/231223-ab-baseline-nnlo-global-NNLOcuts_iterated/231223-ab-baseline-nnlo-global-NNLOcuts_iterated_0000.dat\n",
      "231223-ab-baseline-nnlo-global-NNLOcuts_iterated PDF set, member #0, version 1\n",
      "LHAPDF 6.4.0 loading all 101 PDFs in set 231223-ab-baseline-nnlo-global-NNLOcuts_iterated\n",
      "231223-ab-baseline-nnlo-global-NNLOcuts_iterated, version 1; 101 PDF members\n"
     ]
    }
   ],
   "source": [
    "theorypreds_prior_central = API.group_result_table_no_table(**inps_central).iloc[:, 2:].mean(axis=1)"
   ]
  },
  {
   "cell_type": "code",
   "execution_count": 5,
   "id": "17d8f476",
   "metadata": {
    "scrolled": false
   },
   "outputs": [],
   "source": [
    "theorypreds_prior_plus = API.group_result_table_no_table(**inps_plus).iloc[:, 2:].mean(axis=1)"
   ]
  },
  {
   "cell_type": "code",
   "execution_count": 6,
   "id": "1ad88c90",
   "metadata": {},
   "outputs": [],
   "source": [
    "theorypreds_prior_minus = API.group_result_table_no_table(**inps_minus).iloc[:, 2:].mean(axis=1)"
   ]
  },
  {
   "cell_type": "code",
   "execution_count": null,
   "id": "31bc992d",
   "metadata": {},
   "outputs": [],
   "source": [
    "gamma = theorypreds_prior_plus + theorypreds_prior_minus - 2 * theorypreds_prior_central"
   ]
  },
  {
   "cell_type": "code",
   "execution_count": null,
   "id": "ac757095",
   "metadata": {},
   "outputs": [],
   "source": [
    "# Get the values of alphas...\n",
    "alphas_plus = API.theory_info_table(theory_db_id=theory_plus).loc[\"alphas\"].iloc[0]\n",
    "alphas_central = API.theory_info_table(theory_db_id=theory_mid).loc[\"alphas\"].iloc[0]\n",
    "alphas_min = API.theory_info_table(theory_db_id=theory_min).loc[\"alphas\"].iloc[0]\n",
    "\n",
    "# ... and make sure the alphas shift in both directions is symmetric\n",
    "delta_alphas_plus = alphas_plus - alphas_central\n",
    "delta_alphas_min = alphas_central - alphas_min\n",
    "if abs(delta_alphas_min - delta_alphas_plus) > 1e-6:\n",
    "    raise ValueError(\"alphas shifts in both directions is not symmetric\")\n",
    "else:\n",
    "    alphas_step_size = delta_alphas_min"
   ]
  },
  {
   "cell_type": "code",
   "execution_count": 7,
   "id": "3179f33f",
   "metadata": {},
   "outputs": [],
   "source": [
    "beta_tilde = np.sqrt(covmat_scaling_factor) * (alphas_step_size / np.sqrt(2)) * np.array([1, -1])\n",
    "S_tilde = beta_tilde @ beta_tilde"
   ]
  },
  {
   "cell_type": "code",
   "execution_count": 8,
   "id": "639ca971",
   "metadata": {},
   "outputs": [],
   "source": [
    "delta_plus = (np.sqrt(covmat_scaling_factor) / np.sqrt(2)) * (\n",
    "    theorypreds_prior_plus - theorypreds_prior_central\n",
    ")\n",
    "delta_minus = (np.sqrt(covmat_scaling_factor) / np.sqrt(2)) * (\n",
    "    theorypreds_prior_minus - theorypreds_prior_central\n",
    ")\n",
    "\n",
    "beta = [delta_plus, delta_minus]\n",
    "S_hat = beta_tilde @ beta\n",
    "\n",
    "S = np.outer(delta_plus, delta_plus) + np.outer(delta_minus, delta_minus)\n",
    "S = pd.DataFrame(S, index=delta_minus.index, columns=delta_minus.index)"
   ]
  },
  {
   "cell_type": "code",
   "execution_count": 9,
   "id": "fe666f4c",
   "metadata": {},
   "outputs": [],
   "source": [
    "try:\n",
    "    stored_covmat = pd.read_csv(\n",
    "        fit.path / \"tables/datacuts_theory_theorycovmatconfig_user_covmat.csv\",\n",
    "        sep=\"\\t\",\n",
    "        encoding=\"utf-8\",\n",
    "        index_col=2,\n",
    "        header=3,\n",
    "        skip_blank_lines=False,\n",
    "    )\n",
    "except FileNotFoundError:\n",
    "    stored_covmat = pd.read_csv(\n",
    "        fit.path / \"tables/datacuts_theory_theorycovmatconfig_theory_covmat_custom.csv\",\n",
    "        index_col=[0, 1, 2],\n",
    "        header=[0, 1, 2],\n",
    "        sep=\"\\t|,\",\n",
    "        engine=\"python\",\n",
    "    ).fillna(0)\n",
    "    storedcovmat_index = pd.MultiIndex.from_tuples(\n",
    "        [(aa, bb, np.int64(cc)) for aa, bb, cc in stored_covmat.index],\n",
    "        names=[\"group\", \"dataset\", \"id\"],\n",
    "    )  # make sure theoryID is an integer, same as in S\n",
    "    stored_covmat = pd.DataFrame(\n",
    "        stored_covmat.values, index=storedcovmat_index, columns=storedcovmat_index\n",
    "    )\n",
    "    stored_covmat = stored_covmat.reindex(S.index).T.reindex(S.index)\n",
    "\n",
    "if not np.allclose(0.24931311576864057 * S, stored_covmat):\n",
    "    print(\"Reconstructed theory covmat, S, is not the same as the stored covmat!\")"
   ]
  },
  {
   "cell_type": "code",
   "execution_count": 10,
   "id": "4a0c1f2b",
   "metadata": {},
   "outputs": [],
   "source": [
    "# in case we'd like to save the covmat to be used in a fit\n",
    "# S.to_csv(\"alphas_covmat-114_118_122-multiple_pdfs.csv\")"
   ]
  },
  {
   "cell_type": "code",
   "execution_count": 11,
   "id": "29e4c30f",
   "metadata": {},
   "outputs": [
    {
     "name": "stdout",
     "output_type": "stream",
     "text": [
      "LHAPDF 6.4.0 loading all 391 PDFs in set 240306-ab-ct-alphas-tcm\n",
      "240306-ab-ct-alphas-tcm, version 1; 391 PDF members\n"
     ]
    }
   ],
   "source": [
    "theorypreds_fit = API.group_result_table_no_table(**inps_central_fit).iloc[:, 2:]"
   ]
  },
  {
   "cell_type": "code",
   "execution_count": 12,
   "id": "ac6553b1",
   "metadata": {},
   "outputs": [],
   "source": [
    "# Experimental covariance matrix\n",
    "C = API.groups_covmat(\n",
    "    use_t0=True,\n",
    "    datacuts={\"from_\": \"fit\"},\n",
    "    t0pdfset={\"from_\": \"datacuts\"},\n",
    "    theoryid=theory_mid,\n",
    "    **common_dict\n",
    ")"
   ]
  },
  {
   "cell_type": "code",
   "execution_count": 13,
   "id": "6ed73880",
   "metadata": {},
   "outputs": [],
   "source": [
    "# # MHOU covmat saved as user uncertainties\n",
    "# try:\n",
    "#     mhou_fit = fit.as_input()[\"theorycovmatconfig\"][\"use_user_uncertainties\"]\n",
    "#     if mhou_fit:\n",
    "#         mhou_covmat = API.user_covmat(**(inps_central_fit|fit.as_input()['theorycovmatconfig']))\n",
    "#         exp_covmat = C # we don't use exp_covmat, but may be useful to keep\n",
    "#         C = C + mhou_covmat\n",
    "# except:\n",
    "#     pass"
   ]
  },
  {
   "cell_type": "code",
   "execution_count": 14,
   "id": "a05e4850",
   "metadata": {},
   "outputs": [],
   "source": [
    "# Different from the prediction of the mean PDF (i.e. replica0)\n",
    "mean_prediction = theorypreds_fit.mean(axis=1)\n",
    "\n",
    "X = np.zeros_like(C.values)\n",
    "for i in range(theorypreds_fit.shape[1]):\n",
    "    X += np.outer(\n",
    "        (theorypreds_fit.iloc[:, i] - mean_prediction),\n",
    "        (theorypreds_fit.iloc[:, i] - mean_prediction),\n",
    "    )\n",
    "X *= 1 / theorypreds_fit.shape[1]"
   ]
  },
  {
   "cell_type": "code",
   "execution_count": 15,
   "id": "308e7bd8",
   "metadata": {},
   "outputs": [],
   "source": [
    "pseudodata = API.read_pdf_pseudodata(**common_dict)"
   ]
  },
  {
   "cell_type": "code",
   "execution_count": 16,
   "id": "f4ed15ab",
   "metadata": {},
   "outputs": [],
   "source": [
    "dat_central = pd.concat(\n",
    "    [i.pseudodata.reindex(theorypreds_prior_central.index) for i in pseudodata], axis=1\n",
    ").mean(axis=1)\n",
    "# dat_central = API.group_result_central_table_no_table(**inps_central)[\"data_central\"]"
   ]
  },
  {
   "cell_type": "code",
   "execution_count": null,
   "id": "d0c7139f",
   "metadata": {},
   "outputs": [],
   "source": [
    "z = 1"
   ]
  },
  {
   "cell_type": "code",
   "execution_count": 17,
   "id": "3b0e8a15",
   "metadata": {},
   "outputs": [
    {
     "name": "stdout",
     "output_type": "stream",
     "text": [
      "Prediction for $\\alpha_s$: 0.11690 ± 0.00033\n"
     ]
    }
   ],
   "source": [
    "invcov = la.inv(C + S)\n",
    "delta_T_tilde = -np.sqrt(z) * S_hat @ invcov @ (mean_prediction - dat_central)\n",
    "P_tilde = z * S_hat.T @ invcov @ X @ invcov @ S_hat + S_tilde - z * S_hat.T @ invcov @ S_hat\n",
    "pred = alphas_central + delta_T_tilde\n",
    "unc = np.sqrt(P_tilde)\n",
    "print(rf\"Prediction for $\\alpha_s$: {pred:.5f} ± {unc:.5f}\")"
   ]
  },
  {
   "cell_type": "code",
   "execution_count": null,
   "id": "c9bc54a5",
   "metadata": {},
   "outputs": [],
   "source": []
  }
 ],
 "metadata": {
  "kernelspec": {
   "display_name": "Python 3 (ipykernel)",
   "language": "python",
   "name": "python3"
  },
  "language_info": {
   "codemirror_mode": {
    "name": "ipython",
    "version": 3
   },
   "file_extension": ".py",
   "mimetype": "text/x-python",
   "name": "python",
   "nbconvert_exporter": "python",
   "pygments_lexer": "ipython3",
   "version": "3.11.8"
  },
  "vscode": {
   "interpreter": {
    "hash": "589e3134e9d89160e5ace28972e8dc0b682f48816407b59cbfdad217f6fb745b"
   }
  }
 },
 "nbformat": 4,
 "nbformat_minor": 5
}
