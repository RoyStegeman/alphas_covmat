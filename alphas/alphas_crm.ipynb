{
 "cells": [
  {
   "cell_type": "code",
   "execution_count": 1,
   "id": "f2c3594b",
   "metadata": {},
   "outputs": [],
   "source": [
    "import pandas as pd\n",
    "import numpy as np\n",
    "import matplotlib.pyplot as plt\n",
    "%matplotlib inline\n",
    "from validphys.loader import FallbackLoader as Loader\n",
    "from validphys.api import API"
   ]
  },
  {
   "cell_type": "markdown",
   "id": "b84a4f66",
   "metadata": {},
   "source": [
    "# Settings and fit names"
   ]
  },
  {
   "cell_type": "code",
   "execution_count": 2,
   "id": "b6e9f4ad",
   "metadata": {},
   "outputs": [],
   "source": [
    "use_t0 = False #set use_t0 for all the notebook\n",
    "NDATA = 4616 #number of data in the fit\n",
    "VARCHI2 = 1.0 / NDATA #Varchi2 normalized to ndata"
   ]
  },
  {
   "cell_type": "code",
   "execution_count": 3,
   "id": "a6241dc5",
   "metadata": {},
   "outputs": [],
   "source": [
    "config_common = {\"dataset_inputs\":{\"from_\": \"fit\"}, \"datacuts\":{\"from_\":\"fit\"}, \"use_cuts\":{\"from_\": \"datacuts\"}, \"fakepdf\":{\"from_\":\"closuretest\"}, \"theory\":{\"from_\":\"fit\"}, \"theoryid\":{\"from_\":\"theory\"}, \"pdf\":{\"from_\": \"fit\"}, \"closuretest\":{\"from_\": \"fit\"}, \"filterseed\":{\"from_\":\"closuretest\"}, \"use_fitcommondata\": True, \"use_t0\": use_t0, \"t0pdfset\":{\"from_\":\"datacuts\"} }"
   ]
  },
  {
   "cell_type": "code",
   "execution_count": 4,
   "id": "f1db218d",
   "metadata": {},
   "outputs": [],
   "source": [
    "# fit_names = [f\"NNPDF40_nnlo_as_0{n}_corr_s{l}\" for l in \"12\" for n in [1140,1150,1160,1170,1175,1180,1185,1190,1195,1200,1210,1220]]\n",
    "\n",
    "#NOTE: 0.1990 was mistakenly done with theoryID 0.0120 instead\n",
    "#fit_names = [f\"240218-rs-nnpdf40-corr-mhou-0{n}\" for n in range(1140,1220+1,10)]\n",
    "# fit_names = [f\"240219-rs-nnpdf40-corr-0{n}\" for n in range(1140,1220+1,10)]\n",
    "# Closure fit names (not iterated and no MHOU)\n",
    "\n",
    "fit_names = [f\"240301-ab-ct-alphas{n}-noMHOU\" for n in range(114, 122+1, 1)]\n"
   ]
  },
  {
   "cell_type": "markdown",
   "id": "77ef8603",
   "metadata": {},
   "source": [
    "# Loading the fits"
   ]
  },
  {
   "cell_type": "code",
   "execution_count": 5,
   "id": "ceb1ad89",
   "metadata": {},
   "outputs": [],
   "source": [
    "l = Loader()\n",
    "fits = [l.check_fit(f) for f in fit_names]"
   ]
  },
  {
   "cell_type": "code",
   "execution_count": 6,
   "id": "32685b81",
   "metadata": {},
   "outputs": [],
   "source": [
    "from collections import defaultdict\n",
    "as_fits = defaultdict(list)\n",
    "for f in fits:\n",
    "    th = f.as_input()[\"theory\"][\"theoryid\"]\n",
    "    alpha = float(API.theory_info_table(theory_db_id = th).loc[\"alphas\"])\n",
    "    as_fits[alpha].append(f)\n",
    "as_fits = dict(as_fits)"
   ]
  },
  {
   "cell_type": "code",
   "execution_count": 7,
   "id": "049e3242",
   "metadata": {},
   "outputs": [],
   "source": [
    "indexes = {f: API.fitted_replica_indexes(pdf=f.name) for f in fits}\n",
    "replica_data = {f: API.replica_data(fit=f.name) for f in fits}"
   ]
  },
  {
   "cell_type": "markdown",
   "id": "02e7923f",
   "metadata": {},
   "source": [
    "# Correlated replica method (CRM)"
   ]
  },
  {
   "cell_type": "markdown",
   "id": "36df959f",
   "metadata": {},
   "source": [
    "# Some useful functions"
   ]
  },
  {
   "cell_type": "code",
   "execution_count": 8,
   "id": "46d2c231",
   "metadata": {},
   "outputs": [],
   "source": [
    "def measure(replica_data):\n",
    "    return replica_data.training*3 + replica_data.validation*1\n",
    "    # return replica_data.chi2\n",
    "def fit_parabola(data, exp=False):\n",
    "    mins = {}\n",
    "    for ind, row in data.iterrows():\n",
    "        a, b, c = np.polyfit(data.columns, row, 2)\n",
    "        if not np.isnan(b): # NaN if not all replicas passed postfit\n",
    "            mins[ind] = -b / 2 / a\n",
    "        # mins[ind] = data.columns[np.where(row==row.min())][0]\n",
    "    mins = pd.Series(mins)\n",
    "    if exp: \n",
    "        uncer = np.sqrt(VARCHI2/a)\n",
    "        plt.scatter(data.columns,data.values, color=\"blue\" )\n",
    "        plt.plot(np.linspace(0.114, 0.122), [a*x*x + b*x + c for x in np.linspace(0.114, 0.122)], color=\"black\", linestyle=\"--\")\n",
    "        return mins[0], uncer\n",
    "    return mins\n",
    "def describe_results(mins):\n",
    "    print(mins.describe(percentiles=[0.16,0.84]))\n",
    "    print(\"\")\n",
    "    print(f\"cv±std = {mins.mean():.5f} ± {mins.std():.5f} \")\n",
    "    print(f\"1std interval:  {mins.mean()-mins.std():.5f} to {mins.mean()+mins.std():.5f} \")\n",
    "    print(f\"68% c.i:        {mins.describe(percentiles=[0.16,0.84])[4]:.5f} to {mins.describe(percentiles=[0.16,0.84])[6]:.5f} \")\n",
    "def plot_results(mins):\n",
    "    from validphys.plotutils import kde_plot\n",
    "    fig, ax = plt.subplots()\n",
    "    kde_plot(mins,ax=ax)\n",
    "    central = (mins.describe(percentiles=[0.16,0.84])[6] + mins.describe(percentiles=[0.16,0.84])[4])/2\n",
    "    unc = (mins.describe(percentiles=[0.16,0.84])[6] - mins.describe(percentiles=[0.16,0.84])[4])/2\n",
    "    ax.set_title(f\"68% c.i: {central:.5f}  ± {unc:.5f}  -- MHOU\")\n",
    "    #ax.set_xlim(0.118,0.13)\n",
    "    ax.set_xlabel(r\"$\\alpha_s$\")\n",
    "def hist_results(mins, data, namefig=None):\n",
    "    plt.hist(mins,bins=data.columns-0.0005,edgecolor='black',density=True)\n",
    "    xmin, xmax = plt.xlim()\n",
    "    x = np.linspace(xmin, xmax, 100)\n",
    "    from scipy.stats import norm\n",
    "    # p = np.exp(-((x-mins.mean())/mins.std())**2/2)*mins.size/np.sqrt(2*np.pi)\n",
    "    p = norm.pdf(x, mins.mean(), mins.std())\n",
    "    plt.plot(x,p,'k',label=f\"{mins.mean():.5f} +/- {mins.std():.5f}\")\n",
    "    plt.yticks([])\n",
    "    plt.legend()\n",
    "    if namefig is not None:\n",
    "        plt.savefig(namefig)"
   ]
  },
  {
   "cell_type": "markdown",
   "id": "f95517cc",
   "metadata": {},
   "source": [
    "## Compute the chi2 a posteriori for the CRM\n",
    "This is done in such a way we are free to use or not the t0 prescription"
   ]
  },
  {
   "cell_type": "code",
   "execution_count": null,
   "id": "98f4e67d",
   "metadata": {},
   "outputs": [
    {
     "name": "stdout",
     "output_type": "stream",
     "text": [
      "LHAPDF 6.4.0 loading all 101 PDFs in set 240301-ab-ct-alphas114-noMHOU\n",
      "240301-ab-ct-alphas114-noMHOU, version 1; 101 PDF members\n",
      "LHAPDF 6.4.0 loading all 101 PDFs in set 240301-ab-ct-alphas115-noMHOU\n",
      "240301-ab-ct-alphas115-noMHOU, version 1; 101 PDF members\n",
      "LHAPDF 6.4.0 loading all 101 PDFs in set 240301-ab-ct-alphas116-noMHOU\n",
      "240301-ab-ct-alphas116-noMHOU, version 1; 101 PDF members\n",
      "LHAPDF 6.4.0 loading all 101 PDFs in set 240301-ab-ct-alphas117-noMHOU\n",
      "240301-ab-ct-alphas117-noMHOU, version 1; 101 PDF members\n",
      "LHAPDF 6.4.0 loading all 101 PDFs in set 240301-ab-ct-alphas118-noMHOU\n",
      "240301-ab-ct-alphas118-noMHOU, version 1; 101 PDF members\n",
      "LHAPDF 6.4.0 loading all 101 PDFs in set 240301-ab-ct-alphas119-noMHOU\n",
      "240301-ab-ct-alphas119-noMHOU, version 1; 101 PDF members\n",
      "LHAPDF 6.4.0 loading all 101 PDFs in set 240301-ab-ct-alphas120-noMHOU\n",
      "240301-ab-ct-alphas120-noMHOU, version 1; 101 PDF members\n",
      "LHAPDF 6.4.0 loading all 101 PDFs in set 240301-ab-ct-alphas121-noMHOU\n",
      "240301-ab-ct-alphas121-noMHOU, version 1; 101 PDF members\n"
     ]
    }
   ],
   "source": [
    "replica_chi2_crm = {}\n",
    "for alpha, flist in as_fits.items():\n",
    "    chi2s_replica = []\n",
    "    for f in flist:\n",
    "        config_common[\"fit\"] = f.name\n",
    "        config_common[\"fits\"] = [f.name] #This is used only to load replica 1 data, and it currently needs a list of fits\n",
    "        chi2s_replica.append(pd.Series(API.replica_chi2_level1(**config_common), index=indexes[flist[0]])) #This function is only present in the branch closure_with_same_level1\n",
    "    replica_chi2_crm[alpha] = pd.DataFrame(chi2s_replica).min() #NB: We do the min here. Should we instead do the mean?\n",
    "data_crm_posteriori = pd.DataFrame(replica_chi2_crm)"
   ]
  },
  {
   "cell_type": "code",
   "execution_count": null,
   "id": "57831a71",
   "metadata": {},
   "outputs": [],
   "source": [
    "mins_crm_posteriori = fit_parabola(data_crm_posteriori)\n",
    "describe_results(mins_crm_posteriori)"
   ]
  },
  {
   "cell_type": "code",
   "execution_count": null,
   "id": "8410b307",
   "metadata": {},
   "outputs": [],
   "source": [
    "plot_results(mins_crm_posteriori)"
   ]
  },
  {
   "cell_type": "code",
   "execution_count": null,
   "id": "8b8e9fa7",
   "metadata": {},
   "outputs": [],
   "source": [
    "hist_results(mins_crm_posteriori, data_crm_posteriori)"
   ]
  },
  {
   "cell_type": "code",
   "execution_count": null,
   "id": "adf7db33",
   "metadata": {},
   "outputs": [],
   "source": [
    "plt.plot(data_replica.columns, np.array(data_replica.T))"
   ]
  },
  {
   "cell_type": "markdown",
   "id": "5bc0035e",
   "metadata": {},
   "source": [
    "## Taking the Chi2 from the fit Info\n",
    "They are computed with the t0 prescription"
   ]
  },
  {
   "cell_type": "code",
   "execution_count": null,
   "id": "375353b6",
   "metadata": {},
   "outputs": [],
   "source": [
    "min_values = {}\n",
    "for alpha, flist in as_fits.items():\n",
    "    series = []\n",
    "    for f in flist:\n",
    "        s = [measure(d) for d in replica_data[f]]\n",
    "        series.append(pd.Series(s, index=indexes[f]))\n",
    "    min_values[alpha] = pd.DataFrame(series).min()\n",
    "data_crm = pd.DataFrame(min_values)"
   ]
  },
  {
   "cell_type": "code",
   "execution_count": null,
   "id": "eec6db68",
   "metadata": {},
   "outputs": [],
   "source": [
    "mins_crm = fit_parabola(data_crm)\n",
    "describe_results(mins_crm)"
   ]
  },
  {
   "cell_type": "code",
   "execution_count": null,
   "id": "6b6c37c9",
   "metadata": {},
   "outputs": [],
   "source": [
    "plot_results(mins_crm)"
   ]
  },
  {
   "cell_type": "code",
   "execution_count": null,
   "id": "2b6433e4",
   "metadata": {},
   "outputs": [],
   "source": [
    "hist_results(mins_crm, data_crm)"
   ]
  },
  {
   "cell_type": "code",
   "execution_count": null,
   "id": "94a5fa2b",
   "metadata": {},
   "outputs": [],
   "source": [
    "plt.plot(data_crm.columns, np.array(data_crm.T))"
   ]
  },
  {
   "cell_type": "markdown",
   "id": "c1644d39",
   "metadata": {},
   "source": [
    "# Experimental (\"naive\") method"
   ]
  },
  {
   "cell_type": "markdown",
   "id": "981cce7e",
   "metadata": {},
   "source": [
    "First we try computing the chi2 for the replica 0"
   ]
  },
  {
   "cell_type": "code",
   "execution_count": null,
   "id": "21ced9cb",
   "metadata": {},
   "outputs": [],
   "source": [
    "central_chi2 = {}\n",
    "for alpha, flist in as_fits.items():\n",
    "    chi2s_replica0 = []\n",
    "    for f in flist:\n",
    "        config_common[\"fit\"] = f.name\n",
    "        config_common[\"fits\"] = [f.name] #This is used only to load replica 1 data, and it currently needs a list of fits\n",
    "        chi2s_replica0.append(API.central_chi2_level1(**config_common)) #This function is only present in the branch closure_with_same_level1\n",
    "    central_chi2[alpha] = pd.DataFrame(chi2s_replica0).min()\n",
    "data_expmeth_replica0 = pd.DataFrame(central_chi2)"
   ]
  },
  {
   "cell_type": "code",
   "execution_count": null,
   "id": "20fd2f1c",
   "metadata": {},
   "outputs": [],
   "source": [
    "min_exp_meth, uncer = fit_parabola(data_expmeth_replica0, exp=True)\n",
    "print(f\"cv±std = {min_exp_meth:.5f} ± {uncer:.5f} \")"
   ]
  },
  {
   "cell_type": "raw",
   "id": "0cd4c778",
   "metadata": {},
   "source": [
    "Here we try doing the mean of the chi2s instead of chi2 of the mean"
   ]
  },
  {
   "cell_type": "code",
   "execution_count": null,
   "id": "2d67c6ac",
   "metadata": {},
   "outputs": [],
   "source": [
    "central_chi2_replicas = {}\n",
    "for alpha, flist in as_fits.items():\n",
    "    chi2s_replicas = []\n",
    "    for f in flist:\n",
    "        config_common[\"fit\"] = f.name\n",
    "        config_common[\"fits\"] = [f.name] #This is used only to load replica 1 data, and it currently needs a list of fits\n",
    "        chi2s_replicas.append(np.mean(API.replica_chi2_level1(**config_common))) #This function is only present in the branch closure_with_same_level1\n",
    "    central_chi2_replicas[alpha] = pd.DataFrame(chi2s_replicas).min()\n",
    "data_expmeth_replicas = pd.DataFrame(central_chi2_replicas)"
   ]
  },
  {
   "cell_type": "code",
   "execution_count": null,
   "id": "4c8e0970",
   "metadata": {},
   "outputs": [],
   "source": [
    "min_exp_meth_replicas, uncer_replicas = fit_parabola(data_expmeth_replicas, exp=True)\n",
    "print(f\"cv±std = {min_exp_meth_replicas:.5f} ± {uncer_replicas:.5f} \")"
   ]
  },
  {
   "cell_type": "code",
   "execution_count": null,
   "id": "e7a734ea",
   "metadata": {},
   "outputs": [],
   "source": []
  }
 ],
 "metadata": {
  "kernelspec": {
   "display_name": "Python 3 (ipykernel)",
   "language": "python",
   "name": "python3"
  },
  "language_info": {
   "codemirror_mode": {
    "name": "ipython",
    "version": 3
   },
   "file_extension": ".py",
   "mimetype": "text/x-python",
   "name": "python",
   "nbconvert_exporter": "python",
   "pygments_lexer": "ipython3",
   "version": "3.9.7"
  },
  "vscode": {
   "interpreter": {
    "hash": "589e3134e9d89160e5ace28972e8dc0b682f48816407b59cbfdad217f6fb745b"
   }
  }
 },
 "nbformat": 4,
 "nbformat_minor": 5
}
