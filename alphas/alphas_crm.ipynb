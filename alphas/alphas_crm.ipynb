{
 "cells": [
  {
   "cell_type": "code",
   "execution_count": null,
   "id": "f2c3594b",
   "metadata": {},
   "outputs": [],
   "source": [
    "import pandas as pd\n",
    "import numpy as np\n",
    "import matplotlib.pyplot as plt\n",
    "%matplotlib inline\n",
    "from validphys.loader import FallbackLoader as Loader\n",
    "from validphys.api import API"
   ]
  },
  {
   "cell_type": "code",
   "execution_count": null,
   "id": "f1db218d",
   "metadata": {},
   "outputs": [],
   "source": [
    "# fit_names = [f\"NNPDF40_nnlo_as_0{n}_corr_s{l}\" for l in \"12\" for n in [1140,1150,1160,1170,1175,1180,1185,1190,1195,1200,1210,1220]]\n",
    "\n",
    "#NOTE: 0.1990 was mistakenly done with theoryID 0.0120 instead\n",
    "fit_names = [f\"240218-rs-nnpdf40-corr-mhou-0{n}\" for n in range(1140,1220+1,10)]\n",
    "# fit_names = [f\"240219-rs-nnpdf40-corr-0{n}\" for n in range(1140,1220+1,10)]\n"
   ]
  },
  {
   "cell_type": "code",
   "execution_count": null,
   "id": "ceb1ad89",
   "metadata": {},
   "outputs": [],
   "source": [
    "l = Loader()\n",
    "fits = [l.check_fit(f) for f in fit_names]"
   ]
  },
  {
   "cell_type": "code",
   "execution_count": null,
   "id": "32685b81",
   "metadata": {},
   "outputs": [],
   "source": [
    "from collections import defaultdict\n",
    "as_fits = defaultdict(list)\n",
    "for f in fits:\n",
    "    th = f.as_input()[\"theory\"][\"theoryid\"]\n",
    "    alpha = float(API.theory_info_table(theory_db_id = th).loc[\"alphas\"])\n",
    "    as_fits[alpha].append(f)\n",
    "as_fits = dict(as_fits)"
   ]
  },
  {
   "cell_type": "code",
   "execution_count": null,
   "id": "1fd0980b",
   "metadata": {},
   "outputs": [],
   "source": [
    "indexes = {f: API.fitted_replica_indexes(pdf=f.name) for f in fits}\n",
    "replica_data = {f: API.replica_data(fit=f.name) for f in fits}"
   ]
  },
  {
   "cell_type": "code",
   "execution_count": null,
   "id": "4c1dc929",
   "metadata": {},
   "outputs": [],
   "source": [
    "aa = []\n",
    "for i in indexes.values():\n",
    "    aa.append(i)\n"
   ]
  },
  {
   "cell_type": "code",
   "execution_count": null,
   "id": "1644bac4",
   "metadata": {},
   "outputs": [],
   "source": [
    "def measure(replica_data):\n",
    "    return replica_data.training*3 + replica_data.validation*1\n",
    "    # return replica_data.chi2"
   ]
  },
  {
   "cell_type": "code",
   "execution_count": null,
   "id": "375353b6",
   "metadata": {},
   "outputs": [],
   "source": [
    "min_values = {}\n",
    "for alpha, flist in as_fits.items():\n",
    "    series = []\n",
    "    for f in flist:\n",
    "        s = [measure(d) for d in replica_data[f]]\n",
    "        series.append(pd.Series(s, index=indexes[f]))\n",
    "    min_values[alpha] = pd.DataFrame(series).min()\n",
    "data = pd.DataFrame(min_values)"
   ]
  },
  {
   "cell_type": "code",
   "execution_count": null,
   "id": "eec6db68",
   "metadata": {},
   "outputs": [],
   "source": [
    "mins = {}\n",
    "for ind, row in data.iterrows():\n",
    "    a, b, c = np.polyfit(data.columns, row, 2)\n",
    "    if not np.isnan(b): # NaN if not all replicas passed postfit\n",
    "        mins[ind] = -b / 2 / a\n",
    "    # mins[ind] = data.columns[np.where(row==row.min())][0]\n",
    "\n",
    "mins = pd.Series(mins)"
   ]
  },
  {
   "cell_type": "code",
   "execution_count": null,
   "id": "e7909e32",
   "metadata": {},
   "outputs": [],
   "source": [
    "print(mins.describe(percentiles=[0.16,0.84]))\n",
    "print(\"\")\n",
    "print(f\"cv±std = {mins.mean():.5f} ± {mins.std():.5f} \")\n",
    "print(f\"1std interval:  {mins.mean()-mins.std():.5f} to {mins.mean()+mins.std():.5f} \")\n",
    "print(f\"68% c.i:        {mins.describe(percentiles=[0.16,0.84])[4]:.5f} to {mins.describe(percentiles=[0.16,0.84])[6]:.5f} \")"
   ]
  },
  {
   "cell_type": "code",
   "execution_count": null,
   "id": "6b6c37c9",
   "metadata": {},
   "outputs": [],
   "source": [
    "from validphys.plotutils import kde_plot\n",
    "fig, ax = plt.subplots()\n",
    "kde_plot(mins,ax=ax)\n",
    "central = (mins.describe(percentiles=[0.16,0.84])[6] + mins.describe(percentiles=[0.16,0.84])[4])/2\n",
    "unc = (mins.describe(percentiles=[0.16,0.84])[6] - mins.describe(percentiles=[0.16,0.84])[4])/2\n",
    "ax.set_title(f\"68% c.i: {central:.5f}  ± {unc:.5f}  -- MHOU\")\n",
    "ax.set_xlim(0.118,0.13)\n",
    "ax.set_xlabel(r\"$\\alpha_s$\")"
   ]
  },
  {
   "cell_type": "code",
   "execution_count": null,
   "id": "2b6433e4",
   "metadata": {},
   "outputs": [],
   "source": [
    "plt.hist(mins,bins=data.columns-0.0005,edgecolor='black',density=True)\n",
    "xmin, xmax = plt.xlim()\n",
    "x = np.linspace(xmin, xmax, 100)\n",
    "from scipy.stats import norm\n",
    "# p = np.exp(-((x-mins.mean())/mins.std())**2/2)*mins.size/np.sqrt(2*np.pi)\n",
    "p = norm.pdf(x, mins.mean(), mins.std())\n",
    "plt.plot(x,p,'k',label=f\"{mins.mean():.5f} +/- {mins.std():.5f}\")\n",
    "plt.yticks([])\n",
    "plt.legend()\n",
    "plt.savefig('alphashist.pdf')"
   ]
  },
  {
   "cell_type": "code",
   "execution_count": null,
   "id": "94a5fa2b",
   "metadata": {},
   "outputs": [],
   "source": [
    "plt.plot(data.columns, np.array(data.T))"
   ]
  }
 ],
 "metadata": {
  "kernelspec": {
   "display_name": "nnpdf",
   "language": "python",
   "name": "python3"
  },
  "language_info": {
   "codemirror_mode": {
    "name": "ipython",
    "version": 3
   },
   "file_extension": ".py",
   "mimetype": "text/x-python",
   "name": "python",
   "nbconvert_exporter": "python",
   "pygments_lexer": "ipython3",
   "version": "3.9.18"
  },
  "vscode": {
   "interpreter": {
    "hash": "589e3134e9d89160e5ace28972e8dc0b682f48816407b59cbfdad217f6fb745b"
   }
  }
 },
 "nbformat": 4,
 "nbformat_minor": 5
}
