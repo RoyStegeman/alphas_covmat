{
 "cells": [
  {
   "cell_type": "code",
   "execution_count": null,
   "id": "85baa9f9",
   "metadata": {},
   "outputs": [],
   "source": [
    "from collections import defaultdict\n",
    "import numpy as np\n",
    "import pandas as pd\n",
    "\n",
    "from validphys.loader import FallbackLoader as Loader\n",
    "from validphys.api import API\n",
    "\n",
    "l = Loader()"
   ]
  },
  {
   "cell_type": "code",
   "execution_count": null,
   "id": "f1db218d",
   "metadata": {},
   "outputs": [],
   "source": [
    "fit_names = [\n",
    "    \"230131-rs-nnpdf40-corr-01140-a\",\n",
    "    \"230131-rs-nnpdf40-corr-01140-b\",\n",
    "    \"230131-rs-nnpdf40-corr-01150-a\",\n",
    "    \"230131-rs-nnpdf40-corr-01150-b\",\n",
    "    \"230131-rs-nnpdf40-corr-01160-a\",\n",
    "    \"230131-rs-nnpdf40-corr-01160-b\",\n",
    "    \"230131-rs-nnpdf40-corr-01170-a\",\n",
    "    \"230131-rs-nnpdf40-corr-01170-b\",\n",
    "    \"230131-rs-nnpdf40-corr-01175-a\",\n",
    "    \"230131-rs-nnpdf40-corr-01175-b\",\n",
    "    \"230131-rs-nnpdf40-corr-01180-a\",\n",
    "    \"230131-rs-nnpdf40-corr-01180-b\",\n",
    "    \"230131-rs-nnpdf40-corr-01185-a\",\n",
    "    \"230131-rs-nnpdf40-corr-01185-b\",\n",
    "    \"230131-rs-nnpdf40-corr-01190-a\",\n",
    "    \"230131-rs-nnpdf40-corr-01190-b\",\n",
    "    \"230131-rs-nnpdf40-corr-01195-a\",\n",
    "    \"230131-rs-nnpdf40-corr-01195-b\",\n",
    "    \"230131-rs-nnpdf40-corr-01200-a\",\n",
    "    \"230131-rs-nnpdf40-corr-01200-b\",\n",
    "    \"230131-rs-nnpdf40-corr-01210-a\",\n",
    "    \"230131-rs-nnpdf40-corr-01210-b\",\n",
    "    \"230131-rs-nnpdf40-corr-01220-a\",\n",
    "    \"230131-rs-nnpdf40-corr-01220-b\",\n",
    "]"
   ]
  },
  {
   "cell_type": "code",
   "execution_count": null,
   "id": "3eb2e982",
   "metadata": {},
   "outputs": [],
   "source": [
    "fits = [l.check_fit(f) for f in fit_names]"
   ]
  },
  {
   "cell_type": "code",
   "execution_count": null,
   "id": "6dc19243",
   "metadata": {},
   "outputs": [],
   "source": [
    "def measure(replica_data, tr_datapoints, vl_datapoints):\n",
    "    return replica_data.training*tr_datapoints + replica_data.validation*vl_datapoints"
   ]
  },
  {
   "cell_type": "code",
   "execution_count": null,
   "id": "32685b81",
   "metadata": {},
   "outputs": [],
   "source": [
    "as_fits = defaultdict(list)\n",
    "for f in fits:\n",
    "    th = f.as_input()[\"theory\"][\"theoryid\"]\n",
    "    alpha = float(API.theory_info_table(theory_db_id = th).loc[\"alphas\"])\n",
    "    as_fits[alpha].append(f)\n",
    "as_fits = dict(as_fits)"
   ]
  },
  {
   "cell_type": "code",
   "execution_count": null,
   "id": "60c22835",
   "metadata": {},
   "outputs": [],
   "source": [
    "common_replica_indices=set([i for i in range(1,231)])\n",
    "replica_indices_per_fit = {}\n",
    "for fit in fits:\n",
    "    replica_indices = API.fitted_replica_indexes(pdf=fit.name)\n",
    "    common_replica_indices = common_replica_indices & set(replica_indices)\n",
    "    replica_indices_per_fit[fit.name] = replica_indices"
   ]
  },
  {
   "cell_type": "code",
   "execution_count": null,
   "id": "8f1e3de9",
   "metadata": {},
   "outputs": [],
   "source": [
    "fit_info = {}\n",
    "for fit in fits:\n",
    "    replica_data = API.replica_data(fit=fit.name)\n",
    "    pseudodata=API.read_fit_pseudodata(fit=fit.name)\n",
    "    replica_info = []\n",
    "    for rep in range(230):\n",
    "        if rep+1 in common_replica_indices:\n",
    "            tr_datapoints = (pseudodata[rep][1].size)\n",
    "            vl_datapoints = (pseudodata[rep][2].size)\n",
    "            replicas_chi2_info = (replica_data.pop(0))\n",
    "            replica_info.append({\"replica_data\": replicas_chi2_info, \"vl_datapoints\": vl_datapoints, \"tr_datapoints\": tr_datapoints})\n",
    "    fit_info[fit.name] = replica_info\n",
    "    print(fit.name)\n"
   ]
  },
  {
   "cell_type": "code",
   "execution_count": null,
   "id": "375353b6",
   "metadata": {},
   "outputs": [],
   "source": [
    "min_values = {}\n",
    "\n",
    "for alpha, flist in as_fits.items():\n",
    "    series = []\n",
    "    for f in flist:\n",
    "        s = [measure(**d) for d in fit_info[f.name]]\n",
    "        series.append(pd.Series(s, index=common_replica_indices))\n",
    "    min_values[alpha] = pd.DataFrame(series).min()\n",
    "data = pd.DataFrame(min_values)\n"
   ]
  },
  {
   "cell_type": "code",
   "execution_count": null,
   "id": "eec6db68",
   "metadata": {},
   "outputs": [],
   "source": [
    "mins = {}\n",
    "for ind, row in data.iterrows():\n",
    "    a, b, c = np.polyfit(data.columns, row, 2)\n",
    "    if not np.isnan(b):\n",
    "        mins[ind] = -b / 2 / a\n",
    "mins = pd.Series(mins)\n"
   ]
  },
  {
   "cell_type": "code",
   "execution_count": null,
   "id": "e7909e32",
   "metadata": {},
   "outputs": [],
   "source": [
    "mins.describe()"
   ]
  },
  {
   "cell_type": "code",
   "execution_count": null,
   "id": "800de31b",
   "metadata": {},
   "outputs": [],
   "source": [
    "from validphys.plotutils import kde_plot"
   ]
  },
  {
   "cell_type": "code",
   "execution_count": null,
   "id": "6b6c37c9",
   "metadata": {},
   "outputs": [],
   "source": [
    "kde_plot(mins)"
   ]
  },
  {
   "cell_type": "code",
   "execution_count": null,
   "id": "eb0c7ff6",
   "metadata": {},
   "outputs": [],
   "source": [
    "import matplotlib.pyplot as plt"
   ]
  },
  {
   "cell_type": "code",
   "execution_count": null,
   "id": "94a5fa2b",
   "metadata": {},
   "outputs": [],
   "source": [
    "plt.plot(data.columns, np.array(data.T))"
   ]
  },
  {
   "cell_type": "code",
   "execution_count": null,
   "id": "36314e7b",
   "metadata": {},
   "outputs": [],
   "source": []
  }
 ],
 "metadata": {
  "kernelspec": {
   "display_name": "nnpdf",
   "language": "python",
   "name": "python3"
  },
  "language_info": {
   "codemirror_mode": {
    "name": "ipython",
    "version": 3
   },
   "file_extension": ".py",
   "mimetype": "text/x-python",
   "name": "python",
   "nbconvert_exporter": "python",
   "pygments_lexer": "ipython3",
   "version": "3.8.15"
  },
  "vscode": {
   "interpreter": {
    "hash": "589e3134e9d89160e5ace28972e8dc0b682f48816407b59cbfdad217f6fb745b"
   }
  }
 },
 "nbformat": 4,
 "nbformat_minor": 5
}
