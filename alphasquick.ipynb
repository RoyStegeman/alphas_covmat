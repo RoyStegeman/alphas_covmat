{
 "cells": [
  {
   "cell_type": "code",
   "execution_count": null,
   "id": "f1db218d",
   "metadata": {},
   "outputs": [],
   "source": [
    "# fit_names = [f\"NNPDF40_nnlo_as_0{n}_corr_s{l}\" for l in \"12\" for n in [1140,1150,1160,1170,1175,1180,1185,1190,1195,1200,1210,1220]]\n",
    "\n",
    "fit_names = [f\"220211-ern-00{n}{l}\" for l in \"ab\" for n in range(1,10)]\n",
    "\n",
    "fit_names = [\"230131-rs-nnpdf40-corr-01140-a\", \"230131-rs-nnpdf40-corr-01140-b\", \"230131-rs-nnpdf40-corr-01150-a\", \"230131-rs-nnpdf40-corr-01150-b\", \"230131-rs-nnpdf40-corr-01160-a\", \"230131-rs-nnpdf40-corr-01160-b\", \"230131-rs-nnpdf40-corr-01170-a\", \"230131-rs-nnpdf40-corr-01170-b\", \"230131-rs-nnpdf40-corr-01175-a\", \"230131-rs-nnpdf40-corr-01175-b\", \"230131-rs-nnpdf40-corr-01180-a\", \"230131-rs-nnpdf40-corr-01180-b\", \"230131-rs-nnpdf40-corr-01185-a\", \"230131-rs-nnpdf40-corr-01185-b\", \"230131-rs-nnpdf40-corr-01190-a\", \"230131-rs-nnpdf40-corr-01190-b\", \"230131-rs-nnpdf40-corr-01195-a\", \"230131-rs-nnpdf40-corr-01195-b\", \"230131-rs-nnpdf40-corr-01200-a\", \"230131-rs-nnpdf40-corr-01200-b\", \"230131-rs-nnpdf40-corr-01210-a\", \"230131-rs-nnpdf40-corr-01210-b\", \"230131-rs-nnpdf40-corr-01220-a\", \"230131-rs-nnpdf40-corr-01220-b\", ]"
   ]
  },
  {
   "cell_type": "code",
   "execution_count": null,
   "id": "29bd9fd2",
   "metadata": {},
   "outputs": [],
   "source": [
    "from validphys.loader import FallbackLoader as Loader"
   ]
  },
  {
   "cell_type": "code",
   "execution_count": null,
   "id": "40eacdcc",
   "metadata": {},
   "outputs": [],
   "source": [
    "from validphys.api import API"
   ]
  },
  {
   "cell_type": "code",
   "execution_count": null,
   "id": "ceb1ad89",
   "metadata": {},
   "outputs": [],
   "source": [
    "l = Loader()"
   ]
  },
  {
   "cell_type": "code",
   "execution_count": null,
   "id": "3eb2e982",
   "metadata": {},
   "outputs": [],
   "source": [
    "fits = [l.check_fit(f) for f in fit_names]"
   ]
  },
  {
   "cell_type": "code",
   "execution_count": null,
   "id": "6dc19243",
   "metadata": {},
   "outputs": [],
   "source": [
    "def measure(replica_data):\n",
    "    return replica_data.training*3440 + replica_data.validation*1176"
   ]
  },
  {
   "cell_type": "code",
   "execution_count": null,
   "id": "32685b81",
   "metadata": {},
   "outputs": [],
   "source": [
    "from collections import defaultdict\n",
    "as_fits = defaultdict(list)\n",
    "for f in fits:\n",
    "    th = f.as_input()[\"theory\"][\"theoryid\"]\n",
    "    alpha = float(API.theory_info_table(theory_db_id = th).loc[\"alphas\"])\n",
    "    as_fits[alpha].append(f)\n",
    "as_fits = dict(as_fits)\n",
    "    \n"
   ]
  },
  {
   "cell_type": "code",
   "execution_count": null,
   "id": "1fd0980b",
   "metadata": {},
   "outputs": [],
   "source": [
    "indexes = {f: API.fitted_replica_indexes(pdf=f.name) for f in fits}"
   ]
  },
  {
   "cell_type": "code",
   "execution_count": null,
   "id": "7495ab7a",
   "metadata": {},
   "outputs": [],
   "source": [
    "replica_data = {f: API.replica_data(fit=f.name) for f in fits}"
   ]
  },
  {
   "cell_type": "code",
   "execution_count": null,
   "id": "f47fbac2",
   "metadata": {},
   "outputs": [],
   "source": [
    "import pandas as pd\n",
    "import numpy as np"
   ]
  },
  {
   "cell_type": "code",
   "execution_count": null,
   "id": "375353b6",
   "metadata": {},
   "outputs": [],
   "source": [
    "min_values = {}\n",
    "\n",
    "for alpha, flist in as_fits.items():\n",
    "    series = []\n",
    "    for f in flist:\n",
    "        s = [measure(d) for d in replica_data[f]]\n",
    "        series.append(pd.Series(s, index=indexes[f]))\n",
    "    min_values[alpha] = pd.DataFrame(series).min()\n",
    "    \n",
    "data = pd.DataFrame(min_values)\n",
    "    "
   ]
  },
  {
   "cell_type": "code",
   "execution_count": null,
   "id": "eec6db68",
   "metadata": {},
   "outputs": [],
   "source": [
    "mins = {}\n",
    "for ind, row in data.iterrows():\n",
    "    a, b, c = np.polyfit(data.columns, row, 2)\n",
    "    if not np.isnan(b):\n",
    "        mins[ind] = -b / 2 / a\n",
    "    \n",
    "mins = pd.Series(mins)"
   ]
  },
  {
   "cell_type": "code",
   "execution_count": null,
   "id": "8c53af25",
   "metadata": {},
   "outputs": [],
   "source": [
    "f\" {mins.mean():.5f} ± {mins.std():.5f} \""
   ]
  },
  {
   "cell_type": "code",
   "execution_count": null,
   "id": "e7909e32",
   "metadata": {},
   "outputs": [],
   "source": [
    "mins.describe()"
   ]
  },
  {
   "cell_type": "code",
   "execution_count": null,
   "id": "800de31b",
   "metadata": {},
   "outputs": [],
   "source": [
    "from validphys.plotutils import kde_plot"
   ]
  },
  {
   "cell_type": "code",
   "execution_count": null,
   "id": "6b6c37c9",
   "metadata": {},
   "outputs": [],
   "source": [
    "kde_plot(mins)"
   ]
  },
  {
   "cell_type": "code",
   "execution_count": null,
   "id": "eb0c7ff6",
   "metadata": {},
   "outputs": [],
   "source": [
    "import matplotlib.pyplot as plt"
   ]
  },
  {
   "cell_type": "code",
   "execution_count": null,
   "id": "94a5fa2b",
   "metadata": {},
   "outputs": [],
   "source": [
    "plt.plot(data.columns, np.array(data.T))"
   ]
  },
  {
   "cell_type": "code",
   "execution_count": null,
   "id": "36314e7b",
   "metadata": {},
   "outputs": [],
   "source": []
  }
 ],
 "metadata": {
  "kernelspec": {
   "display_name": "nnpdf",
   "language": "python",
   "name": "python3"
  },
  "language_info": {
   "codemirror_mode": {
    "name": "ipython",
    "version": 3
   },
   "file_extension": ".py",
   "mimetype": "text/x-python",
   "name": "python",
   "nbconvert_exporter": "python",
   "pygments_lexer": "ipython3",
   "version": "3.8.15"
  },
  "vscode": {
   "interpreter": {
    "hash": "589e3134e9d89160e5ace28972e8dc0b682f48816407b59cbfdad217f6fb745b"
   }
  }
 },
 "nbformat": 4,
 "nbformat_minor": 5
}
