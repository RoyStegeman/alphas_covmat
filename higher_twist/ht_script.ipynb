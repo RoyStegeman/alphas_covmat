{
 "cells": [
  {
   "cell_type": "markdown",
   "id": "df579a40",
   "metadata": {},
   "source": [
    "# PREAMBLE\n",
    "<script\n",
    "  src=\"https://cdn.mathjax.org/mathjax/latest/MathJax.js?config=TeX-AMS-MML_HTMLorMML\"\n",
    "  type=\"text/javascript\">\n",
    "</script>"
   ]
  },
  {
   "cell_type": "code",
   "execution_count": 1,
   "id": "226dc610",
   "metadata": {},
   "outputs": [],
   "source": [
    "import numpy as np\n",
    "import pandas as pd\n",
    "import numpy.linalg as la\n",
    "from validphys.api import API\n",
    "from validphys.loader import FallbackLoader as Loader\n",
    "from matplotlib import pyplot as plt\n",
    "l = Loader()"
   ]
  },
  {
   "attachments": {},
   "cell_type": "markdown",
   "id": "85af2b80",
   "metadata": {},
   "source": [
    "# Definition of the input"
   ]
  },
  {
   "cell_type": "code",
   "execution_count": 2,
   "id": "377309ca",
   "metadata": {},
   "outputs": [],
   "source": [
    "fit=\"NNPDF40_ht_test\"\n",
    "\n",
    "theory = 200 \n",
    "\n",
    "ht_const = 1\n",
    "ht_const_step_size = 0.2\n",
    "\n",
    "covmat_scaling_factor = 1"
   ]
  },
  {
   "cell_type": "code",
   "execution_count": 3,
   "id": "05d1a780",
   "metadata": {},
   "outputs": [],
   "source": [
    "common_dict = dict(dataset_inputs={\"from_\": \"fit\"},\n",
    "            fit=fit,\n",
    "            fits=[fit],\n",
    "            use_cuts=\"fromfit\",\n",
    "            metadata_group=\"nnpdf31_process\",)"
   ]
  },
  {
   "cell_type": "markdown",
   "id": "06c28e66",
   "metadata": {},
   "source": [
    "# COMPUTATION OF $\\alpha_s$"
   ]
  },
  {
   "cell_type": "code",
   "execution_count": 4,
   "id": "d7dae95b",
   "metadata": {},
   "outputs": [],
   "source": [
    "fitpath = API.fit(fit=fit).path \n",
    "filterpath = fitpath / 'filter.yml'\n",
    "import yaml\n",
    "with open(filterpath) as f:\n",
    "    filterfile = yaml.safe_load(f)\n",
    "pdf_ori=filterfile['theorycovmatconfig']['pdf'] # PDF used to compute theory covmat"
   ]
  },
  {
   "cell_type": "code",
   "execution_count": 5,
   "id": "c9d93689",
   "metadata": {},
   "outputs": [],
   "source": [
    "#Inputs for theory\n",
    "inps_central = dict(theoryid=theory, pdf=pdf_ori, use_t0=True, datacuts={\"from_\": \"fit\"}, t0pdfset={\"from_\": \"datacuts\"}, **common_dict)"
   ]
  },
  {
   "cell_type": "code",
   "execution_count": 6,
   "id": "ecd0a8e5",
   "metadata": {},
   "outputs": [],
   "source": [
    "#Inputs for central theory\n",
    "inps_central_fit = dict(theoryid=theory, pdf={\"from_\": \"fit\"}, **common_dict)"
   ]
  },
  {
   "cell_type": "code",
   "execution_count": 7,
   "id": "4404d1a3",
   "metadata": {},
   "outputs": [
    {
     "name": "stdout",
     "output_type": "stream",
     "text": [
      "LHAPDF 6.4.0 loading /Users/s2569857/venvs/Conda/nnpdf/share/LHAPDF/210718-n3fit-data-003/210718-n3fit-data-003_0000.dat\n",
      "210718-n3fit-data-003 PDF set, member #0, version 1\n"
     ]
    }
   ],
   "source": [
    "#Experimental covariance matrix\n",
    "C = API.groups_covmat_no_table(**inps_central)"
   ]
  },
  {
   "cell_type": "code",
   "execution_count": 8,
   "id": "3cf05ac3",
   "metadata": {},
   "outputs": [],
   "source": [
    "dsindex=API.groups_index(**inps_central)"
   ]
  },
  {
   "cell_type": "code",
   "execution_count": 9,
   "id": "758cdc8a",
   "metadata": {
    "scrolled": true
   },
   "outputs": [
    {
     "name": "stdout",
     "output_type": "stream",
     "text": [
      "LHAPDF 6.4.0 loading all 101 PDFs in set 210718-n3fit-data-003\n",
      "210718-n3fit-data-003, version 1; 101 PDF members\n",
      "LHAPDF 6.4.0 loading all 4 PDFs in set NNPDF40_ht_test\n",
      "NNPDF40_ht_test, version 1; 4 PDF members\n"
     ]
    }
   ],
   "source": [
    "datth_central = API.group_result_table_no_table(**inps_central)\n",
    "datth_central_fit = API.group_result_table_no_table(**inps_central_fit)"
   ]
  },
  {
   "cell_type": "code",
   "execution_count": 10,
   "id": "5d1f93e2",
   "metadata": {},
   "outputs": [],
   "source": [
    "# Defining DataFrame for kinematics\n",
    "# TO CHECK: is kinematics ordered as dsindex?\n",
    "kin_table = API.combine_by_type_ht(**inps_central).data\n",
    "kin_df = pd.concat([pd.DataFrame(v) for k, v in kin_table.items()])\n",
    "kin_df = pd.DataFrame(kin_df.values, index=dsindex, columns=('kin1', 'kin2', 'kin3'))"
   ]
  },
  {
   "cell_type": "code",
   "execution_count": 11,
   "id": "ed24f68d",
   "metadata": {},
   "outputs": [],
   "source": [
    "th_replicas_fit=datth_central_fit.iloc[:,2:].to_numpy()"
   ]
  },
  {
   "cell_type": "markdown",
   "id": "d4717875",
   "metadata": {},
   "source": [
    "Computation of Eqs.(3.37)-(3.38) in [arXiv:2105.05114](https://arxiv.org/pdf/2105.05114.pdf)"
   ]
  },
  {
   "cell_type": "code",
   "execution_count": 12,
   "id": "9438573b",
   "metadata": {},
   "outputs": [],
   "source": [
    "beta_tilde = np.sqrt(covmat_scaling_factor)*(ht_const_step_size/np.sqrt(2))*np.array([1,-1])\n",
    "S_tilde = beta_tilde@beta_tilde"
   ]
  },
  {
   "cell_type": "code",
   "execution_count": 13,
   "id": "639ca971",
   "metadata": {},
   "outputs": [],
   "source": [
    "delta = ht_const * (datth_central[\"theory_central\"] / kin_df['kin2'] ** 2 / ( 1 - kin_df['kin1'] )).to_numpy()\n",
    "delta_plus  = (np.sqrt(covmat_scaling_factor)/np.sqrt(2))*delta\n",
    "delta_minus = - (np.sqrt(covmat_scaling_factor)/np.sqrt(2))*delta\n",
    "beta = [delta_plus,delta_minus]\n",
    "S_hat = beta_tilde@beta"
   ]
  },
  {
   "cell_type": "code",
   "execution_count": 14,
   "id": "033d6b07",
   "metadata": {},
   "outputs": [],
   "source": [
    "# TO CHECK\n",
    "#S = np.outer(delta_plus,delta_plus)+np.outer(delta_minus,delta_minus)\n",
    "S = np.outer(delta,delta)\n",
    "S = pd.DataFrame(S,index=dsindex,columns=dsindex)\n",
    "S = pd.DataFrame(S.values, index=C.index, columns=C.index)"
   ]
  },
  {
   "cell_type": "code",
   "execution_count": 15,
   "id": "4a0c1f2b",
   "metadata": {},
   "outputs": [],
   "source": [
    "# S.to_csv(\"alphascovmat_01190_extended_nnpdf40_without_nuclearuncs_ernfits_fixed.csv\")"
   ]
  },
  {
   "cell_type": "code",
   "execution_count": 16,
   "id": "b327050e",
   "metadata": {},
   "outputs": [],
   "source": [
    "invcov = la.inv(C+S)"
   ]
  },
  {
   "cell_type": "code",
   "execution_count": 17,
   "id": "42348e71",
   "metadata": {},
   "outputs": [],
   "source": [
    "# Different from the prediction of the mean PDF (i.e. replica0)\n",
    "mean_prediction = np.mean(th_replicas_fit[:],axis=1)"
   ]
  },
  {
   "cell_type": "code",
   "execution_count": 18,
   "id": "a05e4850",
   "metadata": {},
   "outputs": [],
   "source": [
    "X = np.zeros_like(C.values)\n",
    "for i in range(th_replicas_fit.shape[1]):\n",
    "    X += np.outer((th_replicas_fit[:,i]-mean_prediction),(th_replicas_fit[:,i]-mean_prediction))\n",
    "X *= 1/th_replicas_fit.shape[1]"
   ]
  },
  {
   "cell_type": "markdown",
   "id": "f1c91ed5",
   "metadata": {},
   "source": [
    "Final result"
   ]
  },
  {
   "cell_type": "code",
   "execution_count": 19,
   "id": "308e7bd8",
   "metadata": {},
   "outputs": [],
   "source": [
    "pseudodata = API.read_pdf_pseudodata(**common_dict)"
   ]
  },
  {
   "cell_type": "code",
   "execution_count": 20,
   "id": "f4ed15ab",
   "metadata": {},
   "outputs": [],
   "source": [
    "# BUG: dat_central should become average over data replicas\n",
    "dat_central = np.mean([i.pseudodata.reindex(datth_central.index.to_list()).to_numpy().flatten() for i in pseudodata],axis=0)\n",
    "# dat_central = datth_central[\"data_central\"]"
   ]
  },
  {
   "cell_type": "code",
   "execution_count": 21,
   "id": "3b0e8a15",
   "metadata": {},
   "outputs": [],
   "source": [
    "delta_T_tilde = S_hat@invcov@(dat_central-mean_prediction)\n",
    "P_tilde = S_hat.T@invcov@X@invcov@S_hat + (S_tilde - S_hat.T@invcov@S_hat)\n",
    "pred = ht_const + delta_T_tilde\n",
    "unc  = np.sqrt(P_tilde)"
   ]
  },
  {
   "cell_type": "code",
   "execution_count": 22,
   "id": "bd00ca41",
   "metadata": {},
   "outputs": [
    {
     "name": "stdout",
     "output_type": "stream",
     "text": [
      "Reconstructed theory covmat, S, is note the same as the stored covmat!\n"
     ]
    }
   ],
   "source": [
    "try:\n",
    "    stored_covmat = pd.read_csv(\n",
    "        fitpath / 'tables/datacuts_theory_theorycovmatconfig_user_covmat.csv', \n",
    "        sep='\\t',encoding='utf-8', index_col=2,header=3,skip_blank_lines=False,\n",
    "    );\n",
    "except FileNotFoundError:\n",
    "    stored_covmat = pd.read_csv(\n",
    "        fitpath / 'tables/datacuts_theory_theorycovmatconfig_theory_covmat_custom.csv', \n",
    "        sep='\\t',encoding='utf-8', index_col=2,header=3,skip_blank_lines=False,\n",
    "    );\n",
    "if np.allclose(S.to_numpy(), stored_covmat.to_numpy()[:,2:].astype('float64'), atol=1e-1):\n",
    "    print(rf\"Prediction for $\\alpha_s$: {pred:.5f} ± {unc:.5f}\")\n",
    "else:\n",
    "    print(\"Reconstructed theory covmat, S, is note the same as the stored covmat!\")"
   ]
  }
 ],
 "metadata": {
  "kernelspec": {
   "display_name": "nnpdf",
   "language": "python",
   "name": "python3"
  },
  "language_info": {
   "codemirror_mode": {
    "name": "ipython",
    "version": 3
   },
   "file_extension": ".py",
   "mimetype": "text/x-python",
   "name": "python",
   "nbconvert_exporter": "python",
   "pygments_lexer": "ipython3",
   "version": "3.9.18"
  },
  "vscode": {
   "interpreter": {
    "hash": "589e3134e9d89160e5ace28972e8dc0b682f48816407b59cbfdad217f6fb745b"
   }
  }
 },
 "nbformat": 4,
 "nbformat_minor": 5
}
