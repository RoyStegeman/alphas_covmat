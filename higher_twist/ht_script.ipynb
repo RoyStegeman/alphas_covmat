{
 "cells": [
  {
   "cell_type": "markdown",
   "id": "df579a40",
   "metadata": {},
   "source": [
    "# PREAMBLE\n",
    "<script\n",
    "  src=\"https://cdn.mathjax.org/mathjax/latest/MathJax.js?config=TeX-AMS-MML_HTMLorMML\"\n",
    "  type=\"text/javascript\">\n",
    "</script>"
   ]
  },
  {
   "cell_type": "code",
   "execution_count": 1,
   "id": "226dc610",
   "metadata": {},
   "outputs": [],
   "source": [
    "import numpy as np\n",
    "import pandas as pd\n",
    "import numpy.linalg as la\n",
    "from validphys.api import API\n",
    "from validphys.loader import FallbackLoader as Loader\n",
    "from matplotlib import pyplot as plt\n",
    "l = Loader()"
   ]
  },
  {
   "attachments": {},
   "cell_type": "markdown",
   "id": "85af2b80",
   "metadata": {},
   "source": [
    "# Definition of the input"
   ]
  },
  {
   "cell_type": "code",
   "execution_count": 2,
   "id": "377309ca",
   "metadata": {},
   "outputs": [],
   "source": [
    "fit=\"htcovmatfit\"\n",
    "\n",
    "theory = 700 \n",
    "\n",
    "ht_const = 2.3\n",
    "ht_const_step_size = 0.2\n",
    "\n",
    "covmat_scaling_factor = 1"
   ]
  },
  {
   "cell_type": "code",
   "execution_count": 3,
   "id": "05d1a780",
   "metadata": {},
   "outputs": [],
   "source": [
    "common_dict = dict(dataset_inputs={\"from_\": \"fit\"},\n",
    "            fit=fit,\n",
    "            fits=[fit],\n",
    "            use_cuts=\"fromfit\",\n",
    "            metadata_group=\"nnpdf31_process\",\n",
    "            use_ht_uncertainties=True)"
   ]
  },
  {
   "cell_type": "markdown",
   "id": "06c28e66",
   "metadata": {},
   "source": [
    "# COMPUTATION OF $\\alpha_s$"
   ]
  },
  {
   "cell_type": "code",
   "execution_count": 4,
   "id": "d7dae95b",
   "metadata": {},
   "outputs": [],
   "source": [
    "fitpath = API.fit(fit=fit).path \n",
    "filterpath = fitpath / 'filter.yml'\n",
    "import yaml\n",
    "with open(filterpath) as f:\n",
    "    filterfile = yaml.safe_load(f)\n",
    "pdf_ori=filterfile['theorycovmatconfig']['pdf'] # PDF used to compute theory covmat"
   ]
  },
  {
   "cell_type": "code",
   "execution_count": 5,
   "id": "c9d93689",
   "metadata": {},
   "outputs": [],
   "source": [
    "#Inputs for theory\n",
    "inps_central = dict(theoryid=theory, pdf=pdf_ori, use_t0=True, datacuts={\"from_\": \"fit\"}, t0pdfset={\"from_\": \"datacuts\"}, **common_dict)"
   ]
  },
  {
   "cell_type": "code",
   "execution_count": 6,
   "id": "ecd0a8e5",
   "metadata": {},
   "outputs": [],
   "source": [
    "#Inputs for central theory\n",
    "inps_central_fit = dict(theoryid=theory, pdf={\"from_\": \"fit\"}, **common_dict)"
   ]
  },
  {
   "cell_type": "code",
   "execution_count": 7,
   "id": "4404d1a3",
   "metadata": {},
   "outputs": [
    {
     "name": "stdout",
     "output_type": "stream",
     "text": [
      "LHAPDF 6.4.0 loading /Users/s2569857/venvs/Conda/nnpdf/share/LHAPDF/210718-n3fit-data-003/210718-n3fit-data-003_0000.dat\n",
      "210718-n3fit-data-003 PDF set, member #0, version 1\n"
     ]
    }
   ],
   "source": [
    "#Experimental covariance matrix\n",
    "C = API.groups_covmat_no_table(**inps_central)"
   ]
  },
  {
   "cell_type": "code",
   "execution_count": 9,
   "id": "3cf05ac3",
   "metadata": {},
   "outputs": [],
   "source": [
    "# This index orders by process, whereas the loaded covmat is sorted by experiment\n",
    "# WHICH ONE\n",
    "#dsindex=API.groups_index(**inps_central)\n",
    "dsindex=API.procs_index(**inps_central)"
   ]
  },
  {
   "cell_type": "code",
   "execution_count": 10,
   "id": "a523ed67",
   "metadata": {},
   "outputs": [
    {
     "name": "stdout",
     "output_type": "stream",
     "text": [
      "LHAPDF 6.4.0 loading all 101 PDFs in set 210718-n3fit-data-003\n",
      "210718-n3fit-data-003, version 1; 101 PDF members\n"
     ]
    }
   ],
   "source": [
    "theory_table = API.combine_by_type_ht(**inps_central).theory\n",
    "theory_df = pd.concat([pd.DataFrame(v[1]) for k, v in theory_table.items()])\n",
    "theory_df = pd.DataFrame(theory_df.values, columns=(\"theory_central\",))"
   ]
  },
  {
   "cell_type": "code",
   "execution_count": 11,
   "id": "c9dca31e",
   "metadata": {},
   "outputs": [],
   "source": [
    "datth_central = API.group_result_table_no_table(**inps_central)"
   ]
  },
  {
   "cell_type": "code",
   "execution_count": null,
   "id": "66b77b8a",
   "metadata": {},
   "outputs": [],
   "source": [
    "datth_central_fit = API.group_result_table_no_table(**inps_central_fit)"
   ]
  },
  {
   "cell_type": "code",
   "execution_count": 12,
   "id": "d0261d6d",
   "metadata": {},
   "outputs": [
    {
     "name": "stderr",
     "output_type": "stream",
     "text": [
      "Failed processing key pdf.\n"
     ]
    },
    {
     "ename": "ConfigError",
     "evalue": "Bad PDF: htcovmatfit not installed\n",
     "output_type": "error",
     "traceback": [
      "\u001b[0;31m---------------------------------------------------------------------------\u001b[0m",
      "\u001b[0;31mPDFNotFound\u001b[0m                               Traceback (most recent call last)",
      "File \u001b[0;32m~/Codes/NNPDF4.0/nnpdf/validphys2/src/validphys/loader.py:1138\u001b[0m, in \u001b[0;36mFallbackLoader.make_checker.<locals>.f\u001b[0;34m(*args, **kwargs)\u001b[0m\n\u001b[1;32m   1137\u001b[0m \u001b[38;5;28;01mtry\u001b[39;00m:\n\u001b[0;32m-> 1138\u001b[0m     \u001b[38;5;28;01mreturn\u001b[39;00m \u001b[43morig\u001b[49m\u001b[43m(\u001b[49m\u001b[38;5;241;43m*\u001b[39;49m\u001b[43margs\u001b[49m\u001b[43m,\u001b[49m\u001b[43m \u001b[49m\u001b[38;5;241;43m*\u001b[39;49m\u001b[38;5;241;43m*\u001b[39;49m\u001b[43mkwargs\u001b[49m\u001b[43m)\u001b[49m\n\u001b[1;32m   1139\u001b[0m \u001b[38;5;28;01mexcept\u001b[39;00m LoadFailedError \u001b[38;5;28;01mas\u001b[39;00m e:\n",
      "File \u001b[0;32m~/Codes/NNPDF4.0/nnpdf/validphys2/src/validphys/loader.py:653\u001b[0m, in \u001b[0;36mLoader.check_pdf\u001b[0;34m(self, name)\u001b[0m\n\u001b[1;32m    652\u001b[0m     \u001b[38;5;28;01mreturn\u001b[39;00m PDF(name)\n\u001b[0;32m--> 653\u001b[0m \u001b[38;5;28;01mraise\u001b[39;00m PDFNotFound(name)\n",
      "\u001b[0;31mPDFNotFound\u001b[0m: htcovmatfit",
      "\nDuring handling of the above exception, another exception occurred:\n",
      "\u001b[0;31mPDFNotFound\u001b[0m                               Traceback (most recent call last)",
      "File \u001b[0;32m~/Codes/NNPDF4.0/nnpdf/validphys2/src/validphys/config.py:131\u001b[0m, in \u001b[0;36mCoreConfig.parse_pdf\u001b[0;34m(self, name)\u001b[0m\n\u001b[1;32m    130\u001b[0m \u001b[38;5;28;01mtry\u001b[39;00m:\n\u001b[0;32m--> 131\u001b[0m     pdf \u001b[38;5;241m=\u001b[39m \u001b[38;5;28;43mself\u001b[39;49m\u001b[38;5;241;43m.\u001b[39;49m\u001b[43mloader\u001b[49m\u001b[38;5;241;43m.\u001b[39;49m\u001b[43mcheck_pdf\u001b[49m\u001b[43m(\u001b[49m\u001b[43mname\u001b[49m\u001b[43m)\u001b[49m\n\u001b[1;32m    132\u001b[0m \u001b[38;5;28;01mexcept\u001b[39;00m PDFNotFound \u001b[38;5;28;01mas\u001b[39;00m e:\n",
      "File \u001b[0;32m~/Codes/NNPDF4.0/nnpdf/validphys2/src/validphys/loader.py:1162\u001b[0m, in \u001b[0;36mFallbackLoader.make_checker.<locals>.f\u001b[0;34m(*args, **kwargs)\u001b[0m\n\u001b[1;32m   1161\u001b[0m \u001b[38;5;28;01melse\u001b[39;00m:\n\u001b[0;32m-> 1162\u001b[0m     \u001b[38;5;28;01mreturn\u001b[39;00m \u001b[43morig\u001b[49m\u001b[43m(\u001b[49m\u001b[38;5;241;43m*\u001b[39;49m\u001b[43margs\u001b[49m\u001b[43m,\u001b[49m\u001b[43m \u001b[49m\u001b[38;5;241;43m*\u001b[39;49m\u001b[38;5;241;43m*\u001b[39;49m\u001b[43mkwargs\u001b[49m\u001b[43m)\u001b[49m\n",
      "File \u001b[0;32m~/Codes/NNPDF4.0/nnpdf/validphys2/src/validphys/loader.py:653\u001b[0m, in \u001b[0;36mLoader.check_pdf\u001b[0;34m(self, name)\u001b[0m\n\u001b[1;32m    652\u001b[0m     \u001b[38;5;28;01mreturn\u001b[39;00m PDF(name)\n\u001b[0;32m--> 653\u001b[0m \u001b[38;5;28;01mraise\u001b[39;00m PDFNotFound(name)\n",
      "\u001b[0;31mPDFNotFound\u001b[0m: htcovmatfit",
      "\nThe above exception was the direct cause of the following exception:\n",
      "\u001b[0;31mConfigError\u001b[0m                               Traceback (most recent call last)",
      "Cell \u001b[0;32mIn[12], line 1\u001b[0m\n\u001b[0;32m----> 1\u001b[0m theory_table_fit \u001b[38;5;241m=\u001b[39m \u001b[43mAPI\u001b[49m\u001b[38;5;241;43m.\u001b[39;49m\u001b[43mcombine_by_type_ht\u001b[49m\u001b[43m(\u001b[49m\u001b[38;5;241;43m*\u001b[39;49m\u001b[38;5;241;43m*\u001b[39;49m\u001b[43minps_central_fit\u001b[49m\u001b[43m)\u001b[49m\u001b[38;5;241m.\u001b[39mtheory\n\u001b[1;32m      2\u001b[0m theory_df_fit \u001b[38;5;241m=\u001b[39m pd\u001b[38;5;241m.\u001b[39mconcat([pd\u001b[38;5;241m.\u001b[39mDataFrame(v[\u001b[38;5;241m1\u001b[39m]) \u001b[38;5;28;01mfor\u001b[39;00m k, v \u001b[38;5;129;01min\u001b[39;00m theory_table\u001b[38;5;241m.\u001b[39mitems()])\n\u001b[1;32m      3\u001b[0m theory_df_fit \u001b[38;5;241m=\u001b[39m pd\u001b[38;5;241m.\u001b[39mDataFrame(theory_df\u001b[38;5;241m.\u001b[39mvalues, columns\u001b[38;5;241m=\u001b[39m(\u001b[38;5;124m\"\u001b[39m\u001b[38;5;124mtheory_central\u001b[39m\u001b[38;5;124m\"\u001b[39m,))\n",
      "File \u001b[0;32m~/venvs/Conda/nnpdf/lib/python3.9/site-packages/reportengine/api.py:44\u001b[0m, in \u001b[0;36mAPI.__getattr__.<locals>.closure\u001b[0;34m(**kwargs)\u001b[0m\n\u001b[1;32m     43\u001b[0m \u001b[38;5;28;01mdef\u001b[39;00m \u001b[38;5;21mclosure\u001b[39m(\u001b[38;5;241m*\u001b[39m\u001b[38;5;241m*\u001b[39mkwargs):\n\u001b[0;32m---> 44\u001b[0m     \u001b[38;5;28;01mreturn\u001b[39;00m \u001b[38;5;28;43mself\u001b[39;49m\u001b[38;5;241;43m.\u001b[39;49m\u001b[38;5;21;43m__call__\u001b[39;49m\u001b[43m(\u001b[49m\u001b[43mname\u001b[49m\u001b[43m,\u001b[49m\u001b[43m \u001b[49m\u001b[38;5;241;43m*\u001b[39;49m\u001b[38;5;241;43m*\u001b[39;49m\u001b[43mkwargs\u001b[49m\u001b[43m)\u001b[49m\n",
      "File \u001b[0;32m~/venvs/Conda/nnpdf/lib/python3.9/site-packages/reportengine/api.py:37\u001b[0m, in \u001b[0;36mAPI.__call__\u001b[0;34m(self, actions, **kwargs)\u001b[0m\n\u001b[1;32m     35\u001b[0m builder \u001b[38;5;241m=\u001b[39m ResourceBuilder(c, \u001b[38;5;28mself\u001b[39m\u001b[38;5;241m.\u001b[39mprovider_loaded, fuzzytarg, perform_final\u001b[38;5;241m=\u001b[39m\u001b[38;5;28;01mFalse\u001b[39;00m)\n\u001b[1;32m     36\u001b[0m builder\u001b[38;5;241m.\u001b[39mrootns\u001b[38;5;241m.\u001b[39mupdate(\u001b[38;5;28mself\u001b[39m\u001b[38;5;241m.\u001b[39mloadedenv\u001b[38;5;241m.\u001b[39mns_dump())\n\u001b[0;32m---> 37\u001b[0m \u001b[43mbuilder\u001b[49m\u001b[38;5;241;43m.\u001b[39;49m\u001b[43mresolve_fuzzytargets\u001b[49m\u001b[43m(\u001b[49m\u001b[43m)\u001b[49m\n\u001b[1;32m     38\u001b[0m builder\u001b[38;5;241m.\u001b[39mexecute_sequential()\n\u001b[1;32m     39\u001b[0m res \u001b[38;5;241m=\u001b[39m builder\u001b[38;5;241m.\u001b[39mrootns[actions]\n",
      "File \u001b[0;32m~/venvs/Conda/nnpdf/lib/python3.9/site-packages/reportengine/resourcebuilder.py:370\u001b[0m, in \u001b[0;36mResourceBuilder.resolve_fuzzytargets\u001b[0;34m(self)\u001b[0m\n\u001b[1;32m    368\u001b[0m \u001b[38;5;28;01mdef\u001b[39;00m \u001b[38;5;21mresolve_fuzzytargets\u001b[39m(\u001b[38;5;28mself\u001b[39m):\n\u001b[1;32m    369\u001b[0m     \u001b[38;5;28;01mfor\u001b[39;00m target \u001b[38;5;129;01min\u001b[39;00m \u001b[38;5;28mself\u001b[39m\u001b[38;5;241m.\u001b[39mfuzzytargets:\n\u001b[0;32m--> 370\u001b[0m         \u001b[38;5;28;43mself\u001b[39;49m\u001b[38;5;241;43m.\u001b[39;49m\u001b[43mresolve_fuzzytarget\u001b[49m\u001b[43m(\u001b[49m\u001b[43mtarget\u001b[49m\u001b[43m)\u001b[49m\n",
      "File \u001b[0;32m~/venvs/Conda/nnpdf/lib/python3.9/site-packages/reportengine/resourcebuilder.py:379\u001b[0m, in \u001b[0;36mResourceBuilder.resolve_fuzzytarget\u001b[0;34m(self, fuzzytarget)\u001b[0m\n\u001b[1;32m    376\u001b[0m specs \u001b[38;5;241m=\u001b[39m \u001b[38;5;28mself\u001b[39m\u001b[38;5;241m.\u001b[39mexpand_fuzzytarget_spec(fuzzytarget)\n\u001b[1;32m    378\u001b[0m \u001b[38;5;28;01mfor\u001b[39;00m spec \u001b[38;5;129;01min\u001b[39;00m specs:\n\u001b[0;32m--> 379\u001b[0m     \u001b[38;5;28;43mself\u001b[39;49m\u001b[38;5;241;43m.\u001b[39;49m\u001b[43mprocess_targetspec\u001b[49m\u001b[43m(\u001b[49m\u001b[43mfuzzytarget\u001b[49m\u001b[38;5;241;43m.\u001b[39;49m\u001b[43mname\u001b[49m\u001b[43m,\u001b[49m\u001b[43m \u001b[49m\u001b[43mspec\u001b[49m\u001b[43m,\u001b[49m\u001b[43m \u001b[49m\u001b[43mfuzzytarget\u001b[49m\u001b[38;5;241;43m.\u001b[39;49m\u001b[43mextraargs\u001b[49m\u001b[43m)\u001b[49m\n",
      "File \u001b[0;32m~/venvs/Conda/nnpdf/lib/python3.9/site-packages/reportengine/resourcebuilder.py:388\u001b[0m, in \u001b[0;36mResourceBuilder.process_targetspec\u001b[0;34m(self, name, nsspec, extraargs, default)\u001b[0m\n\u001b[1;32m    384\u001b[0m log\u001b[38;5;241m.\u001b[39mdebug(\u001b[38;5;124m\"\u001b[39m\u001b[38;5;124mProcessing target \u001b[39m\u001b[38;5;132;01m%s\u001b[39;00m\u001b[38;5;124m\"\u001b[39m \u001b[38;5;241m%\u001b[39m name)\n\u001b[1;32m    386\u001b[0m gen \u001b[38;5;241m=\u001b[39m \u001b[38;5;28mself\u001b[39m\u001b[38;5;241m.\u001b[39m_process_requirement(name, nsspec, extraargs\u001b[38;5;241m=\u001b[39mextraargs,\n\u001b[1;32m    387\u001b[0m                                 default\u001b[38;5;241m=\u001b[39mdefault, parents\u001b[38;5;241m=\u001b[39m[])\n\u001b[0;32m--> 388\u001b[0m \u001b[43mgen\u001b[49m\u001b[38;5;241;43m.\u001b[39;49m\u001b[43msend\u001b[49m\u001b[43m(\u001b[49m\u001b[38;5;28;43;01mNone\u001b[39;49;00m\u001b[43m)\u001b[49m\n\u001b[1;32m    389\u001b[0m \u001b[38;5;28;01mtry\u001b[39;00m:\n\u001b[1;32m    390\u001b[0m     gen\u001b[38;5;241m.\u001b[39msend(\u001b[38;5;28;01mNone\u001b[39;00m)\n",
      "File \u001b[0;32m~/venvs/Conda/nnpdf/lib/python3.9/site-packages/reportengine/resourcebuilder.py:450\u001b[0m, in \u001b[0;36mResourceBuilder._process_requirement\u001b[0;34m(self, name, nsspec, extraargs, default, parents)\u001b[0m\n\u001b[1;32m    446\u001b[0m         \u001b[38;5;28;01mreturn\u001b[39;00m\n\u001b[1;32m    448\u001b[0m \u001b[38;5;66;03m#here we handle the case where the requirement is a provider and\u001b[39;00m\n\u001b[1;32m    449\u001b[0m \u001b[38;5;66;03m#make a new node for it.\u001b[39;00m\n\u001b[0;32m--> 450\u001b[0m \u001b[38;5;28;01myield from\u001b[39;00m \u001b[38;5;28mself\u001b[39m\u001b[38;5;241m.\u001b[39m_make_node(name, nsspec, extraargs, parents)\n",
      "File \u001b[0;32m~/venvs/Conda/nnpdf/lib/python3.9/site-packages/reportengine/resourcebuilder.py:466\u001b[0m, in \u001b[0;36mResourceBuilder._make_node\u001b[0;34m(self, name_or_tuple, nsspec, extraargs, parents)\u001b[0m\n\u001b[1;32m    464\u001b[0m     \u001b[38;5;28;01myield from\u001b[39;00m \u001b[38;5;28mself\u001b[39m\u001b[38;5;241m.\u001b[39m_make_collect(f, name, nsspec, parents)\n\u001b[1;32m    465\u001b[0m \u001b[38;5;28;01melse\u001b[39;00m:\n\u001b[0;32m--> 466\u001b[0m     \u001b[38;5;28;01myield from\u001b[39;00m \u001b[38;5;28mself\u001b[39m\u001b[38;5;241m.\u001b[39m_make_callspec(f, name, nsspec, extraargs, parents)\n",
      "File \u001b[0;32m~/venvs/Conda/nnpdf/lib/python3.9/site-packages/reportengine/resourcebuilder.py:499\u001b[0m, in \u001b[0;36mResourceBuilder._make_callspec\u001b[0;34m(self, f, name, nsspec, extraargs, parents)\u001b[0m\n\u001b[1;32m    496\u001b[0m default \u001b[38;5;241m=\u001b[39m defaults\u001b[38;5;241m.\u001b[39mget(param_name, param\u001b[38;5;241m.\u001b[39mdefault)\n\u001b[1;32m    497\u001b[0m gen \u001b[38;5;241m=\u001b[39m \u001b[38;5;28mself\u001b[39m\u001b[38;5;241m.\u001b[39m_process_requirement(param_name, nsspec, extraargs\u001b[38;5;241m=\u001b[39m\u001b[38;5;28;01mNone\u001b[39;00m,\n\u001b[1;32m    498\u001b[0m                          default\u001b[38;5;241m=\u001b[39mdefault, parents\u001b[38;5;241m=\u001b[39m[name, \u001b[38;5;241m*\u001b[39mparents])\n\u001b[0;32m--> 499\u001b[0m index, _ \u001b[38;5;241m=\u001b[39m \u001b[43mgen\u001b[49m\u001b[38;5;241;43m.\u001b[39;49m\u001b[43msend\u001b[49m\u001b[43m(\u001b[49m\u001b[38;5;28;43;01mNone\u001b[39;49;00m\u001b[43m)\u001b[49m\n\u001b[1;32m    500\u001b[0m log\u001b[38;5;241m.\u001b[39mdebug(\u001b[38;5;124m\"\u001b[39m\u001b[38;5;124mput_index for \u001b[39m\u001b[38;5;132;01m%s\u001b[39;00m\u001b[38;5;124m is \u001b[39m\u001b[38;5;132;01m%s\u001b[39;00m\u001b[38;5;124m\"\u001b[39m \u001b[38;5;241m%\u001b[39m (param_name, index))\n\u001b[1;32m    501\u001b[0m \u001b[38;5;28;01mif\u001b[39;00m index \u001b[38;5;129;01mis\u001b[39;00m \u001b[38;5;28;01mNone\u001b[39;00m:\n",
      "File \u001b[0;32m~/venvs/Conda/nnpdf/lib/python3.9/site-packages/reportengine/resourcebuilder.py:413\u001b[0m, in \u001b[0;36mResourceBuilder._process_requirement\u001b[0;34m(self, name, nsspec, extraargs, default, parents)\u001b[0m\n\u001b[1;32m    411\u001b[0m \u001b[38;5;28;01mif\u001b[39;00m ( is_provider \u001b[38;5;129;01mand\u001b[39;00m \u001b[38;5;28misinstance\u001b[39m(\u001b[38;5;28mself\u001b[39m\u001b[38;5;241m.\u001b[39mget_provider_func(name), collect)):\n\u001b[1;32m    412\u001b[0m     log\u001b[38;5;241m.\u001b[39mdebug(\u001b[38;5;124m\"\u001b[39m\u001b[38;5;124mResolving collect node for \u001b[39m\u001b[38;5;132;01m%s\u001b[39;00m\u001b[38;5;124m\"\u001b[39m, name)\n\u001b[0;32m--> 413\u001b[0m     \u001b[38;5;28;01myield from\u001b[39;00m \u001b[38;5;28mself\u001b[39m\u001b[38;5;241m.\u001b[39m_make_node(name, nsspec, extraargs, parents)\n\u001b[1;32m    414\u001b[0m     \u001b[38;5;28;01mreturn\u001b[39;00m\n\u001b[1;32m    415\u001b[0m \u001b[38;5;66;03m#First try to find the name in the namespace\u001b[39;00m\n",
      "File \u001b[0;32m~/venvs/Conda/nnpdf/lib/python3.9/site-packages/reportengine/resourcebuilder.py:464\u001b[0m, in \u001b[0;36mResourceBuilder._make_node\u001b[0;34m(self, name_or_tuple, nsspec, extraargs, parents)\u001b[0m\n\u001b[1;32m    462\u001b[0m     \u001b[38;5;28;01myield from\u001b[39;00m \u001b[38;5;28mself\u001b[39m\u001b[38;5;241m.\u001b[39m_make_collect_targets(f, name, nsspec, parents)\n\u001b[1;32m    463\u001b[0m \u001b[38;5;28;01melif\u001b[39;00m \u001b[38;5;28misinstance\u001b[39m(f, collect):\n\u001b[0;32m--> 464\u001b[0m     \u001b[38;5;28;01myield from\u001b[39;00m \u001b[38;5;28mself\u001b[39m\u001b[38;5;241m.\u001b[39m_make_collect(f, name, nsspec, parents)\n\u001b[1;32m    465\u001b[0m \u001b[38;5;28;01melse\u001b[39;00m:\n\u001b[1;32m    466\u001b[0m     \u001b[38;5;28;01myield from\u001b[39;00m \u001b[38;5;28mself\u001b[39m\u001b[38;5;241m.\u001b[39m_make_callspec(f, name, nsspec, extraargs, parents)\n",
      "File \u001b[0;32m~/venvs/Conda/nnpdf/lib/python3.9/site-packages/reportengine/resourcebuilder.py:593\u001b[0m, in \u001b[0;36mResourceBuilder._make_collect\u001b[0;34m(self, f, name, nsspec, parents)\u001b[0m\n\u001b[1;32m    588\u001b[0m gen \u001b[38;5;241m=\u001b[39m \u001b[38;5;28mself\u001b[39m\u001b[38;5;241m.\u001b[39m_process_requirement(newname, spec,\n\u001b[1;32m    589\u001b[0m                                 parents\u001b[38;5;241m=\u001b[39mnewparents)\n\u001b[1;32m    592\u001b[0m \u001b[38;5;28;01mtry\u001b[39;00m:\n\u001b[0;32m--> 593\u001b[0m     _, newcs \u001b[38;5;241m=\u001b[39m \u001b[43mgen\u001b[49m\u001b[38;5;241;43m.\u001b[39;49m\u001b[43msend\u001b[49m\u001b[43m(\u001b[49m\u001b[38;5;28;43;01mNone\u001b[39;49;00m\u001b[43m)\u001b[49m\n\u001b[1;32m    594\u001b[0m \u001b[38;5;28;01mexcept\u001b[39;00m InputNotFoundError:\n\u001b[1;32m    595\u001b[0m     \u001b[38;5;28;01mif\u001b[39;00m f\u001b[38;5;241m.\u001b[39melement_default \u001b[38;5;129;01mis\u001b[39;00m EMPTY:\n",
      "File \u001b[0;32m~/venvs/Conda/nnpdf/lib/python3.9/site-packages/reportengine/resourcebuilder.py:450\u001b[0m, in \u001b[0;36mResourceBuilder._process_requirement\u001b[0;34m(self, name, nsspec, extraargs, default, parents)\u001b[0m\n\u001b[1;32m    446\u001b[0m         \u001b[38;5;28;01mreturn\u001b[39;00m\n\u001b[1;32m    448\u001b[0m \u001b[38;5;66;03m#here we handle the case where the requirement is a provider and\u001b[39;00m\n\u001b[1;32m    449\u001b[0m \u001b[38;5;66;03m#make a new node for it.\u001b[39;00m\n\u001b[0;32m--> 450\u001b[0m \u001b[38;5;28;01myield from\u001b[39;00m \u001b[38;5;28mself\u001b[39m\u001b[38;5;241m.\u001b[39m_make_node(name, nsspec, extraargs, parents)\n",
      "File \u001b[0;32m~/venvs/Conda/nnpdf/lib/python3.9/site-packages/reportengine/resourcebuilder.py:466\u001b[0m, in \u001b[0;36mResourceBuilder._make_node\u001b[0;34m(self, name_or_tuple, nsspec, extraargs, parents)\u001b[0m\n\u001b[1;32m    464\u001b[0m     \u001b[38;5;28;01myield from\u001b[39;00m \u001b[38;5;28mself\u001b[39m\u001b[38;5;241m.\u001b[39m_make_collect(f, name, nsspec, parents)\n\u001b[1;32m    465\u001b[0m \u001b[38;5;28;01melse\u001b[39;00m:\n\u001b[0;32m--> 466\u001b[0m     \u001b[38;5;28;01myield from\u001b[39;00m \u001b[38;5;28mself\u001b[39m\u001b[38;5;241m.\u001b[39m_make_callspec(f, name, nsspec, extraargs, parents)\n",
      "File \u001b[0;32m~/venvs/Conda/nnpdf/lib/python3.9/site-packages/reportengine/resourcebuilder.py:499\u001b[0m, in \u001b[0;36mResourceBuilder._make_callspec\u001b[0;34m(self, f, name, nsspec, extraargs, parents)\u001b[0m\n\u001b[1;32m    496\u001b[0m default \u001b[38;5;241m=\u001b[39m defaults\u001b[38;5;241m.\u001b[39mget(param_name, param\u001b[38;5;241m.\u001b[39mdefault)\n\u001b[1;32m    497\u001b[0m gen \u001b[38;5;241m=\u001b[39m \u001b[38;5;28mself\u001b[39m\u001b[38;5;241m.\u001b[39m_process_requirement(param_name, nsspec, extraargs\u001b[38;5;241m=\u001b[39m\u001b[38;5;28;01mNone\u001b[39;00m,\n\u001b[1;32m    498\u001b[0m                          default\u001b[38;5;241m=\u001b[39mdefault, parents\u001b[38;5;241m=\u001b[39m[name, \u001b[38;5;241m*\u001b[39mparents])\n\u001b[0;32m--> 499\u001b[0m index, _ \u001b[38;5;241m=\u001b[39m \u001b[43mgen\u001b[49m\u001b[38;5;241;43m.\u001b[39;49m\u001b[43msend\u001b[49m\u001b[43m(\u001b[49m\u001b[38;5;28;43;01mNone\u001b[39;49;00m\u001b[43m)\u001b[49m\n\u001b[1;32m    500\u001b[0m log\u001b[38;5;241m.\u001b[39mdebug(\u001b[38;5;124m\"\u001b[39m\u001b[38;5;124mput_index for \u001b[39m\u001b[38;5;132;01m%s\u001b[39;00m\u001b[38;5;124m is \u001b[39m\u001b[38;5;132;01m%s\u001b[39;00m\u001b[38;5;124m\"\u001b[39m \u001b[38;5;241m%\u001b[39m (param_name, index))\n\u001b[1;32m    501\u001b[0m \u001b[38;5;28;01mif\u001b[39;00m index \u001b[38;5;129;01mis\u001b[39;00m \u001b[38;5;28;01mNone\u001b[39;00m:\n",
      "File \u001b[0;32m~/venvs/Conda/nnpdf/lib/python3.9/site-packages/reportengine/resourcebuilder.py:417\u001b[0m, in \u001b[0;36mResourceBuilder._process_requirement\u001b[0;34m(self, name, nsspec, extraargs, default, parents)\u001b[0m\n\u001b[1;32m    415\u001b[0m \u001b[38;5;66;03m#First try to find the name in the namespace\u001b[39;00m\n\u001b[1;32m    416\u001b[0m \u001b[38;5;28;01mtry\u001b[39;00m:\n\u001b[0;32m--> 417\u001b[0m     put_index, val \u001b[38;5;241m=\u001b[39m \u001b[38;5;28;43mself\u001b[39;49m\u001b[38;5;241;43m.\u001b[39;49m\u001b[43minput_parser\u001b[49m\u001b[38;5;241;43m.\u001b[39;49m\u001b[43mresolve_key\u001b[49m\u001b[43m(\u001b[49m\u001b[43mname\u001b[49m\u001b[43m,\u001b[49m\u001b[43m \u001b[49m\u001b[43mns\u001b[49m\u001b[43m,\u001b[49m\u001b[43m \u001b[49m\u001b[43mparents\u001b[49m\u001b[38;5;241;43m=\u001b[39;49m\u001b[43mparents\u001b[49m\u001b[43m,\u001b[49m\u001b[43m \u001b[49m\u001b[43mcurrspec\u001b[49m\u001b[38;5;241;43m=\u001b[39;49m\u001b[43mnsspec\u001b[49m\u001b[43m)\u001b[49m\n\u001b[1;32m    418\u001b[0m     log\u001b[38;5;241m.\u001b[39mdebug(\u001b[38;5;124m\"\u001b[39m\u001b[38;5;124mFound \u001b[39m\u001b[38;5;132;01m%s\u001b[39;00m\u001b[38;5;124m for spec \u001b[39m\u001b[38;5;132;01m%s\u001b[39;00m\u001b[38;5;124m at \u001b[39m\u001b[38;5;132;01m%s\u001b[39;00m\u001b[38;5;124m\"\u001b[39m\u001b[38;5;241m%\u001b[39m(name, nsspec, put_index))\n\u001b[1;32m    420\u001b[0m \u001b[38;5;28;01mexcept\u001b[39;00m InputNotFoundError \u001b[38;5;28;01mas\u001b[39;00m e:\n\u001b[1;32m    421\u001b[0m     \u001b[38;5;66;03m#See https://www.python.org/dev/peps/pep-3110/\u001b[39;00m\n",
      "File \u001b[0;32m~/venvs/Conda/nnpdf/lib/python3.9/site-packages/reportengine/configparser.py:429\u001b[0m, in \u001b[0;36mConfig.resolve_key\u001b[0;34m(self, key, ns, input_params, parents, max_index, write, currspec)\u001b[0m\n\u001b[1;32m    427\u001b[0m     input_params \u001b[38;5;241m=\u001b[39m \u001b[38;5;28mself\u001b[39m\u001b[38;5;241m.\u001b[39minput_params\n\u001b[1;32m    428\u001b[0m \u001b[38;5;28;01mwith\u001b[39;00m \u001b[38;5;28mself\u001b[39m\u001b[38;5;241m.\u001b[39mset_context(key, ns, input_params, parents, currspec):\n\u001b[0;32m--> 429\u001b[0m     \u001b[38;5;28;01mreturn\u001b[39;00m \u001b[38;5;28;43mself\u001b[39;49m\u001b[38;5;241;43m.\u001b[39;49m\u001b[43m_resolve_key\u001b[49m\u001b[43m(\u001b[49m\u001b[43mkey\u001b[49m\u001b[38;5;241;43m=\u001b[39;49m\u001b[43mkey\u001b[49m\u001b[43m,\u001b[49m\u001b[43m \u001b[49m\u001b[43mns\u001b[49m\u001b[38;5;241;43m=\u001b[39;49m\u001b[43mns\u001b[49m\u001b[43m,\u001b[49m\u001b[43m \u001b[49m\u001b[43minput_params\u001b[49m\u001b[38;5;241;43m=\u001b[39;49m\u001b[43minput_params\u001b[49m\u001b[43m,\u001b[49m\n\u001b[1;32m    430\u001b[0m \u001b[43m        \u001b[49m\u001b[43mparents\u001b[49m\u001b[38;5;241;43m=\u001b[39;49m\u001b[43mparents\u001b[49m\u001b[43m,\u001b[49m\u001b[43m \u001b[49m\u001b[43mmax_index\u001b[49m\u001b[38;5;241;43m=\u001b[39;49m\u001b[43mmax_index\u001b[49m\u001b[43m,\u001b[49m\u001b[43m \u001b[49m\u001b[43mwrite\u001b[49m\u001b[38;5;241;43m=\u001b[39;49m\u001b[43mwrite\u001b[49m\u001b[43m)\u001b[49m\n",
      "File \u001b[0;32m~/venvs/Conda/nnpdf/lib/python3.9/site-packages/reportengine/configparser.py:517\u001b[0m, in \u001b[0;36mConfig._resolve_key\u001b[0;34m(self, key, ns, input_params, parents, max_index, write)\u001b[0m\n\u001b[1;32m    513\u001b[0m trap_func \u001b[38;5;241m=\u001b[39m \u001b[38;5;28mself\u001b[39m\u001b[38;5;241m.\u001b[39mget_trap_func(input_val)\n\u001b[1;32m    515\u001b[0m \u001b[38;5;28;01mif\u001b[39;00m trap_func:\n\u001b[1;32m    516\u001b[0m     \u001b[38;5;66;03m#TODO: Think about this interface\u001b[39;00m\n\u001b[0;32m--> 517\u001b[0m     \u001b[38;5;28;01mreturn\u001b[39;00m \u001b[43mtrap_func\u001b[49m\u001b[43m(\u001b[49m\u001b[43mkey\u001b[49m\u001b[43m)\u001b[49m\n\u001b[1;32m    520\u001b[0m f \u001b[38;5;241m=\u001b[39m \u001b[38;5;28mself\u001b[39m\u001b[38;5;241m.\u001b[39mget_parse_func(key)\n\u001b[1;32m    521\u001b[0m \u001b[38;5;28;01mif\u001b[39;00m f:\n",
      "File \u001b[0;32m~/venvs/Conda/nnpdf/lib/python3.9/site-packages/reportengine/configparser.py:133\u001b[0m, in \u001b[0;36m_parse_func.<locals>.f_\u001b[0;34m(self, val, *args, **kwargs)\u001b[0m\n\u001b[1;32m    129\u001b[0m     \u001b[38;5;28;01mif\u001b[39;00m \u001b[38;5;129;01mnot\u001b[39;00m \u001b[38;5;28misinstance\u001b[39m(val, input_type):\n\u001b[1;32m    130\u001b[0m         \u001b[38;5;28;01mraise\u001b[39;00m BadInputType(trim_token(f\u001b[38;5;241m.\u001b[39m\u001b[38;5;18m__name__\u001b[39m), val, input_type)\n\u001b[0;32m--> 133\u001b[0m \u001b[38;5;28;01mreturn\u001b[39;00m \u001b[43mf\u001b[49m\u001b[43m(\u001b[49m\u001b[38;5;28;43mself\u001b[39;49m\u001b[43m,\u001b[49m\u001b[43m \u001b[49m\u001b[43mval\u001b[49m\u001b[43m,\u001b[49m\u001b[43m \u001b[49m\u001b[38;5;241;43m*\u001b[39;49m\u001b[43margs\u001b[49m\u001b[43m,\u001b[49m\u001b[43m \u001b[49m\u001b[38;5;241;43m*\u001b[39;49m\u001b[38;5;241;43m*\u001b[39;49m\u001b[43mkwargs\u001b[49m\u001b[43m)\u001b[49m\n",
      "File \u001b[0;32m~/venvs/Conda/nnpdf/lib/python3.9/site-packages/reportengine/configparser.py:766\u001b[0m, in \u001b[0;36mConfig.parse_from_\u001b[0;34m(self, value, element, write)\u001b[0m\n\u001b[1;32m    763\u001b[0m new_ns \u001b[38;5;241m=\u001b[39m ns\u001b[38;5;241m.\u001b[39mnew_child()\n\u001b[1;32m    764\u001b[0m new_ns[value] \u001b[38;5;241m=\u001b[39m tip\n\u001b[0;32m--> 766\u001b[0m ind,val \u001b[38;5;241m=\u001b[39m \u001b[38;5;28;43mself\u001b[39;49m\u001b[38;5;241;43m.\u001b[39;49m\u001b[43mresolve_key\u001b[49m\u001b[43m(\u001b[49m\u001b[43melement\u001b[49m\u001b[43m,\u001b[49m\u001b[43m \u001b[49m\u001b[43mnew_ns\u001b[49m\u001b[43m,\u001b[49m\n\u001b[1;32m    767\u001b[0m \u001b[43m    \u001b[49m\u001b[43minput_params\u001b[49m\u001b[38;5;241;43m=\u001b[39;49m\u001b[43mnew_input\u001b[49m\u001b[43m,\u001b[49m\n\u001b[1;32m    768\u001b[0m \u001b[43m    \u001b[49m\u001b[43mparents\u001b[49m\u001b[38;5;241;43m=\u001b[39;49m\u001b[43mparents\u001b[49m\u001b[43m,\u001b[49m\u001b[43m \u001b[49m\u001b[43mwrite\u001b[49m\u001b[38;5;241;43m=\u001b[39;49m\u001b[43mwrite\u001b[49m\u001b[43m,\u001b[49m\u001b[43m \u001b[49m\u001b[43mmax_index\u001b[49m\u001b[38;5;241;43m=\u001b[39;49m\u001b[43mmax_index\u001b[49m\u001b[43m)\u001b[49m\n\u001b[1;32m    769\u001b[0m ns\u001b[38;5;241m.\u001b[39mupdate(new_ns)\n\u001b[1;32m    770\u001b[0m \u001b[38;5;28;01mreturn\u001b[39;00m ind,val\n",
      "File \u001b[0;32m~/venvs/Conda/nnpdf/lib/python3.9/site-packages/reportengine/configparser.py:429\u001b[0m, in \u001b[0;36mConfig.resolve_key\u001b[0;34m(self, key, ns, input_params, parents, max_index, write, currspec)\u001b[0m\n\u001b[1;32m    427\u001b[0m     input_params \u001b[38;5;241m=\u001b[39m \u001b[38;5;28mself\u001b[39m\u001b[38;5;241m.\u001b[39minput_params\n\u001b[1;32m    428\u001b[0m \u001b[38;5;28;01mwith\u001b[39;00m \u001b[38;5;28mself\u001b[39m\u001b[38;5;241m.\u001b[39mset_context(key, ns, input_params, parents, currspec):\n\u001b[0;32m--> 429\u001b[0m     \u001b[38;5;28;01mreturn\u001b[39;00m \u001b[38;5;28;43mself\u001b[39;49m\u001b[38;5;241;43m.\u001b[39;49m\u001b[43m_resolve_key\u001b[49m\u001b[43m(\u001b[49m\u001b[43mkey\u001b[49m\u001b[38;5;241;43m=\u001b[39;49m\u001b[43mkey\u001b[49m\u001b[43m,\u001b[49m\u001b[43m \u001b[49m\u001b[43mns\u001b[49m\u001b[38;5;241;43m=\u001b[39;49m\u001b[43mns\u001b[49m\u001b[43m,\u001b[49m\u001b[43m \u001b[49m\u001b[43minput_params\u001b[49m\u001b[38;5;241;43m=\u001b[39;49m\u001b[43minput_params\u001b[49m\u001b[43m,\u001b[49m\n\u001b[1;32m    430\u001b[0m \u001b[43m        \u001b[49m\u001b[43mparents\u001b[49m\u001b[38;5;241;43m=\u001b[39;49m\u001b[43mparents\u001b[49m\u001b[43m,\u001b[49m\u001b[43m \u001b[49m\u001b[43mmax_index\u001b[49m\u001b[38;5;241;43m=\u001b[39;49m\u001b[43mmax_index\u001b[49m\u001b[43m,\u001b[49m\u001b[43m \u001b[49m\u001b[43mwrite\u001b[49m\u001b[38;5;241;43m=\u001b[39;49m\u001b[43mwrite\u001b[49m\u001b[43m)\u001b[49m\n",
      "File \u001b[0;32m~/venvs/Conda/nnpdf/lib/python3.9/site-packages/reportengine/configparser.py:538\u001b[0m, in \u001b[0;36mConfig._resolve_key\u001b[0;34m(self, key, ns, input_params, parents, max_index, write)\u001b[0m\n\u001b[1;32m    536\u001b[0m         \u001b[38;5;28;01melse\u001b[39;00m:\n\u001b[1;32m    537\u001b[0m             log\u001b[38;5;241m.\u001b[39merror(\u001b[38;5;124mf\u001b[39m\u001b[38;5;124m\"\u001b[39m\u001b[38;5;124mFailed processing key \u001b[39m\u001b[38;5;132;01m{\u001b[39;00mkey\u001b[38;5;132;01m}\u001b[39;00m\u001b[38;5;124m.\u001b[39m\u001b[38;5;124m\"\u001b[39m)\n\u001b[0;32m--> 538\u001b[0m         \u001b[38;5;28;01mraise\u001b[39;00m e\n\u001b[1;32m    539\u001b[0m \u001b[38;5;28;01melif\u001b[39;00m nsindex \u001b[38;5;129;01mis\u001b[39;00m \u001b[38;5;129;01mnot\u001b[39;00m \u001b[38;5;28;01mNone\u001b[39;00m:\n\u001b[1;32m    540\u001b[0m     \u001b[38;5;28;01mreturn\u001b[39;00m nsindex, nsval\n",
      "File \u001b[0;32m~/venvs/Conda/nnpdf/lib/python3.9/site-packages/reportengine/configparser.py:531\u001b[0m, in \u001b[0;36mConfig._resolve_key\u001b[0;34m(self, key, ns, input_params, parents, max_index, write)\u001b[0m\n\u001b[1;32m    529\u001b[0m     \u001b[38;5;28;01mreturn\u001b[39;00m nsindex, nsval\n\u001b[1;32m    530\u001b[0m \u001b[38;5;28;01mtry\u001b[39;00m:\n\u001b[0;32m--> 531\u001b[0m     val \u001b[38;5;241m=\u001b[39m \u001b[43mf\u001b[49m\u001b[43m(\u001b[49m\u001b[43minput_val\u001b[49m\u001b[43m,\u001b[49m\u001b[43m \u001b[49m\u001b[38;5;241;43m*\u001b[39;49m\u001b[38;5;241;43m*\u001b[39;49m\u001b[43mkwargs\u001b[49m\u001b[43m)\u001b[49m\n\u001b[1;32m    532\u001b[0m \u001b[38;5;28;01mexcept\u001b[39;00m ConfigError \u001b[38;5;28;01mas\u001b[39;00m e:\n\u001b[1;32m    533\u001b[0m     \u001b[38;5;28;01mif\u001b[39;00m lineinfo:\n",
      "File \u001b[0;32m~/venvs/Conda/nnpdf/lib/python3.9/site-packages/reportengine/configparser.py:133\u001b[0m, in \u001b[0;36m_parse_func.<locals>.f_\u001b[0;34m(self, val, *args, **kwargs)\u001b[0m\n\u001b[1;32m    129\u001b[0m     \u001b[38;5;28;01mif\u001b[39;00m \u001b[38;5;129;01mnot\u001b[39;00m \u001b[38;5;28misinstance\u001b[39m(val, input_type):\n\u001b[1;32m    130\u001b[0m         \u001b[38;5;28;01mraise\u001b[39;00m BadInputType(trim_token(f\u001b[38;5;241m.\u001b[39m\u001b[38;5;18m__name__\u001b[39m), val, input_type)\n\u001b[0;32m--> 133\u001b[0m \u001b[38;5;28;01mreturn\u001b[39;00m \u001b[43mf\u001b[49m\u001b[43m(\u001b[49m\u001b[38;5;28;43mself\u001b[39;49m\u001b[43m,\u001b[49m\u001b[43m \u001b[49m\u001b[43mval\u001b[49m\u001b[43m,\u001b[49m\u001b[43m \u001b[49m\u001b[38;5;241;43m*\u001b[39;49m\u001b[43margs\u001b[49m\u001b[43m,\u001b[49m\u001b[43m \u001b[49m\u001b[38;5;241;43m*\u001b[39;49m\u001b[38;5;241;43m*\u001b[39;49m\u001b[43mkwargs\u001b[49m\u001b[43m)\u001b[49m\n",
      "File \u001b[0;32m~/Codes/NNPDF4.0/nnpdf/validphys2/src/validphys/config.py:97\u001b[0m, in \u001b[0;36m_id_with_label.<locals>.parse_func\u001b[0;34m(self, item, **kwargs)\u001b[0m\n\u001b[1;32m     92\u001b[0m     \u001b[38;5;28;01mraise\u001b[39;00m ConfigError(\n\u001b[1;32m     93\u001b[0m         \u001b[38;5;124mf\u001b[39m\u001b[38;5;124m\"\u001b[39m\u001b[38;5;124m'\u001b[39m\u001b[38;5;132;01m{\u001b[39;00mitem\u001b[38;5;132;01m}\u001b[39;00m\u001b[38;5;124m'\u001b[39m\u001b[38;5;124m must be a single id, or a mapping \u001b[39m\u001b[38;5;124m\"\u001b[39m\n\u001b[1;32m     94\u001b[0m         \u001b[38;5;124mf\u001b[39m\u001b[38;5;124m\"\u001b[39m\u001b[38;5;124mwith keys \u001b[39m\u001b[38;5;124m'\u001b[39m\u001b[38;5;124mid\u001b[39m\u001b[38;5;124m'\u001b[39m\u001b[38;5;124m, \u001b[39m\u001b[38;5;124m'\u001b[39m\u001b[38;5;124mlabel.\u001b[39m\u001b[38;5;132;01m{\u001b[39;00munrecognized\u001b[38;5;132;01m}\u001b[39;00m\u001b[38;5;124m'\u001b[39m\u001b[38;5;124m\"\u001b[39m\n\u001b[1;32m     95\u001b[0m     )\n\u001b[1;32m     96\u001b[0m \u001b[38;5;28mid\u001b[39m \u001b[38;5;241m=\u001b[39m item[\u001b[38;5;124m\"\u001b[39m\u001b[38;5;124mid\u001b[39m\u001b[38;5;124m\"\u001b[39m]\n\u001b[0;32m---> 97\u001b[0m val \u001b[38;5;241m=\u001b[39m \u001b[43mf\u001b[49m\u001b[43m(\u001b[49m\u001b[38;5;28;43mself\u001b[39;49m\u001b[43m,\u001b[49m\u001b[43m \u001b[49m\u001b[38;5;28;43mid\u001b[39;49m\u001b[43m,\u001b[49m\u001b[43m \u001b[49m\u001b[38;5;241;43m*\u001b[39;49m\u001b[38;5;241;43m*\u001b[39;49m\u001b[43mkwargs\u001b[49m\u001b[43m)\u001b[49m\n\u001b[1;32m     98\u001b[0m \u001b[38;5;28;01mif\u001b[39;00m \u001b[38;5;124m\"\u001b[39m\u001b[38;5;124mlabel\u001b[39m\u001b[38;5;124m\"\u001b[39m \u001b[38;5;129;01min\u001b[39;00m item:\n\u001b[1;32m     99\u001b[0m     val\u001b[38;5;241m.\u001b[39mlabel \u001b[38;5;241m=\u001b[39m \u001b[38;5;28mstr\u001b[39m(item[\u001b[38;5;124m\"\u001b[39m\u001b[38;5;124mlabel\u001b[39m\u001b[38;5;124m\"\u001b[39m])\n",
      "File \u001b[0;32m~/venvs/Conda/nnpdf/lib/python3.9/site-packages/reportengine/configparser.py:133\u001b[0m, in \u001b[0;36m_parse_func.<locals>.f_\u001b[0;34m(self, val, *args, **kwargs)\u001b[0m\n\u001b[1;32m    129\u001b[0m     \u001b[38;5;28;01mif\u001b[39;00m \u001b[38;5;129;01mnot\u001b[39;00m \u001b[38;5;28misinstance\u001b[39m(val, input_type):\n\u001b[1;32m    130\u001b[0m         \u001b[38;5;28;01mraise\u001b[39;00m BadInputType(trim_token(f\u001b[38;5;241m.\u001b[39m\u001b[38;5;18m__name__\u001b[39m), val, input_type)\n\u001b[0;32m--> 133\u001b[0m \u001b[38;5;28;01mreturn\u001b[39;00m \u001b[43mf\u001b[49m\u001b[43m(\u001b[49m\u001b[38;5;28;43mself\u001b[39;49m\u001b[43m,\u001b[49m\u001b[43m \u001b[49m\u001b[43mval\u001b[49m\u001b[43m,\u001b[49m\u001b[43m \u001b[49m\u001b[38;5;241;43m*\u001b[39;49m\u001b[43margs\u001b[49m\u001b[43m,\u001b[49m\u001b[43m \u001b[49m\u001b[38;5;241;43m*\u001b[39;49m\u001b[38;5;241;43m*\u001b[39;49m\u001b[43mkwargs\u001b[49m\u001b[43m)\u001b[49m\n",
      "File \u001b[0;32m~/Codes/NNPDF4.0/nnpdf/validphys2/src/validphys/config.py:133\u001b[0m, in \u001b[0;36mCoreConfig.parse_pdf\u001b[0;34m(self, name)\u001b[0m\n\u001b[1;32m    131\u001b[0m     pdf \u001b[38;5;241m=\u001b[39m \u001b[38;5;28mself\u001b[39m\u001b[38;5;241m.\u001b[39mloader\u001b[38;5;241m.\u001b[39mcheck_pdf(name)\n\u001b[1;32m    132\u001b[0m \u001b[38;5;28;01mexcept\u001b[39;00m PDFNotFound \u001b[38;5;28;01mas\u001b[39;00m e:\n\u001b[0;32m--> 133\u001b[0m     \u001b[38;5;28;01mraise\u001b[39;00m ConfigError(\n\u001b[1;32m    134\u001b[0m         \u001b[38;5;124m\"\u001b[39m\u001b[38;5;124mBad PDF: \u001b[39m\u001b[38;5;132;01m{}\u001b[39;00m\u001b[38;5;124m not installed\u001b[39m\u001b[38;5;124m\"\u001b[39m\u001b[38;5;241m.\u001b[39mformat(name), name, \u001b[38;5;28mself\u001b[39m\u001b[38;5;241m.\u001b[39mloader\u001b[38;5;241m.\u001b[39mavailable_pdfs\n\u001b[1;32m    135\u001b[0m     ) \u001b[38;5;28;01mfrom\u001b[39;00m \u001b[38;5;21;01me\u001b[39;00m\n\u001b[1;32m    136\u001b[0m \u001b[38;5;28;01mexcept\u001b[39;00m LoaderError \u001b[38;5;28;01mas\u001b[39;00m e:\n\u001b[1;32m    137\u001b[0m     \u001b[38;5;28;01mraise\u001b[39;00m ConfigError(e) \u001b[38;5;28;01mfrom\u001b[39;00m \u001b[38;5;21;01me\u001b[39;00m\n",
      "\u001b[0;31mConfigError\u001b[0m: Bad PDF: htcovmatfit not installed\n"
     ]
    }
   ],
   "source": [
    "theory_table_fit = API.combine_by_type_ht(**inps_central_fit).theory\n",
    "theory_df_fit = pd.concat([pd.DataFrame(v[1]) for k, v in theory_table.items()])\n",
    "theory_df_fit = pd.DataFrame(theory_df.values, columns=(\"theory_central\",))"
   ]
  },
  {
   "cell_type": "code",
   "execution_count": 13,
   "id": "5d1f93e2",
   "metadata": {},
   "outputs": [],
   "source": [
    "# Defining DataFrame for kinematics\n",
    "# TO CHECK: is kinematics ordered as dsindex?\n",
    "kin_table = API.combine_by_type_ht(**inps_central).data\n",
    "kin_df = pd.concat([pd.DataFrame(v) for k, v in kin_table.items()])\n",
    "kin_df = pd.DataFrame(kin_df.values, columns=('kin1', 'kin2', 'kin3'))"
   ]
  },
  {
   "cell_type": "code",
   "execution_count": null,
   "id": "ed24f68d",
   "metadata": {},
   "outputs": [],
   "source": [
    "th_replicas_fit=datth_central_fit.iloc[:,2:].to_numpy()"
   ]
  },
  {
   "cell_type": "markdown",
   "id": "d4717875",
   "metadata": {},
   "source": [
    "Computation of Eqs.(3.37)-(3.38) in [arXiv:2105.05114](https://arxiv.org/pdf/2105.05114.pdf)"
   ]
  },
  {
   "cell_type": "code",
   "execution_count": 15,
   "id": "9438573b",
   "metadata": {},
   "outputs": [],
   "source": [
    "beta_tilde = np.sqrt(covmat_scaling_factor)*(ht_const_step_size/np.sqrt(2))*np.array([1,-1])\n",
    "S_tilde = beta_tilde@beta_tilde"
   ]
  },
  {
   "cell_type": "code",
   "execution_count": 16,
   "id": "639ca971",
   "metadata": {},
   "outputs": [],
   "source": [
    "# datth_central and theory_df are the same\n",
    "delta = ht_const * (theory_df[\"theory_central\"] / np.power(kin_df['kin2'],2) / ( 1 - kin_df['kin1'] )).to_numpy()\n",
    "delta_reind = np.zeros(delta.size, dtype=np.float32)\n",
    "covmap = API.covmap(**inps_central)\n",
    "for i in range(delta.size):\n",
    "    delta_reind[covmap[i]] = delta[i]\n",
    "    \n",
    "delta_plus  = (np.sqrt(covmat_scaling_factor)/np.sqrt(2))*delta_reind\n",
    "delta_minus = - (np.sqrt(covmat_scaling_factor)/np.sqrt(2))*delta_reind\n",
    "beta = [delta_plus,delta_minus]\n",
    "S_hat = beta_tilde@beta"
   ]
  },
  {
   "cell_type": "code",
   "execution_count": 17,
   "id": "033d6b07",
   "metadata": {},
   "outputs": [],
   "source": [
    "S = np.outer(delta_reind,delta_reind)\n",
    "S = pd.DataFrame(S,index=dsindex,columns=dsindex)\n",
    "S = pd.DataFrame(S.values, index=C.index, columns=C.index)"
   ]
  },
  {
   "cell_type": "code",
   "execution_count": null,
   "id": "4a0c1f2b",
   "metadata": {},
   "outputs": [],
   "source": [
    "# S.to_csv(\"alphascovmat_01190_extended_nnpdf40_without_nuclearuncs_ernfits_fixed.csv\")"
   ]
  },
  {
   "cell_type": "code",
   "execution_count": null,
   "id": "b327050e",
   "metadata": {},
   "outputs": [],
   "source": [
    "invcov = la.inv(C+S)"
   ]
  },
  {
   "cell_type": "code",
   "execution_count": null,
   "id": "42348e71",
   "metadata": {},
   "outputs": [],
   "source": [
    "# Different from the prediction of the mean PDF (i.e. replica0)\n",
    "mean_prediction = np.mean(th_replicas_fit[:],axis=1)"
   ]
  },
  {
   "cell_type": "code",
   "execution_count": null,
   "id": "a05e4850",
   "metadata": {},
   "outputs": [],
   "source": [
    "X = np.zeros_like(C.values)\n",
    "for i in range(th_replicas_fit.shape[1]):\n",
    "    X += np.outer((th_replicas_fit[:,i]-mean_prediction),(th_replicas_fit[:,i]-mean_prediction))\n",
    "X *= 1/th_replicas_fit.shape[1]"
   ]
  },
  {
   "cell_type": "markdown",
   "id": "f1c91ed5",
   "metadata": {},
   "source": [
    "Final result"
   ]
  },
  {
   "cell_type": "code",
   "execution_count": null,
   "id": "308e7bd8",
   "metadata": {},
   "outputs": [],
   "source": [
    "pseudodata = API.read_pdf_pseudodata(**common_dict)"
   ]
  },
  {
   "cell_type": "code",
   "execution_count": null,
   "id": "f4ed15ab",
   "metadata": {},
   "outputs": [],
   "source": [
    "# BUG: dat_central should become average over data replicas\n",
    "dat_central = np.mean([i.pseudodata.reindex(datth_central.index.to_list()).to_numpy().flatten() for i in pseudodata],axis=0)\n",
    "# dat_central = datth_central[\"data_central\"]"
   ]
  },
  {
   "cell_type": "code",
   "execution_count": null,
   "id": "3b0e8a15",
   "metadata": {},
   "outputs": [],
   "source": [
    "delta_T_tilde = S_hat@invcov@(dat_central-mean_prediction)\n",
    "P_tilde = S_hat.T@invcov@X@invcov@S_hat + (S_tilde - S_hat.T@invcov@S_hat)\n",
    "pred = ht_const + delta_T_tilde\n",
    "unc  = np.sqrt(P_tilde)"
   ]
  },
  {
   "cell_type": "code",
   "execution_count": null,
   "id": "bd00ca41",
   "metadata": {},
   "outputs": [],
   "source": [
    "try:\n",
    "    stored_covmat = pd.read_csv(\n",
    "        fitpath / 'tables/datacuts_theory_theorycovmatconfig_user_covmat.csv', \n",
    "        sep='\\t',encoding='utf-8', index_col=2,header=3,skip_blank_lines=False,\n",
    "    );\n",
    "except FileNotFoundError:\n",
    "    stored_covmat = pd.read_csv(\n",
    "        fitpath / 'tables/datacuts_theory_theorycovmatconfig_theory_covmat_custom.csv', \n",
    "        sep='\\t',encoding='utf-8', index_col=2,header=3,skip_blank_lines=False,\n",
    "    );\n",
    "if np.allclose(S.to_numpy(), stored_covmat.to_numpy()[:,2:].astype('float64')):\n",
    "    print(rf\"Prediction for $\\alpha_s$: {pred:.5f} ± {unc:.5f}\")\n",
    "else:\n",
    "    print(\"Reconstructed theory covmat, S, is note the same as the stored covmat!\")"
   ]
  }
 ],
 "metadata": {
  "kernelspec": {
   "display_name": "nnpdf",
   "language": "python",
   "name": "python3"
  },
  "language_info": {
   "codemirror_mode": {
    "name": "ipython",
    "version": 3
   },
   "file_extension": ".py",
   "mimetype": "text/x-python",
   "name": "python",
   "nbconvert_exporter": "python",
   "pygments_lexer": "ipython3",
   "version": "3.9.18"
  },
  "vscode": {
   "interpreter": {
    "hash": "589e3134e9d89160e5ace28972e8dc0b682f48816407b59cbfdad217f6fb745b"
   }
  }
 },
 "nbformat": 4,
 "nbformat_minor": 5
}
