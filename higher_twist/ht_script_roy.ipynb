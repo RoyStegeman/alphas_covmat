{
 "cells": [
  {
   "cell_type": "code",
   "execution_count": 1,
   "id": "226dc610",
   "metadata": {},
   "outputs": [],
   "source": [
    "from validphys.api import API\n",
    "import numpy as np\n",
    "import pandas as pd\n",
    "\n",
    "fitname = \"htcovmatfit\""
   ]
  },
  {
   "cell_type": "code",
   "execution_count": 2,
   "id": "d7dae95b",
   "metadata": {},
   "outputs": [],
   "source": [
    "ht_coeff = API.fit(fit=fitname).as_input()[\"theorycovmatconfig\"][\"ht_coeff\"]\n",
    "\n",
    "# dict used to produce theory predictions to construct the theory covmat as well as to produce \n",
    "# theory predictions from the fit performed using the ht covmat (i.e. the predicitons that should\n",
    "# be compared to data)\n",
    "common_dict = dict(\n",
    "    dataset_inputs={\"from_\": \"fit\"},\n",
    "    fit=fitname,\n",
    "    fits=[fitname],\n",
    "    use_cuts=\"fromfit\",\n",
    "    metadata_group=\"nnpdf31_process\",\n",
    "    theory={\"from_\": \"fit\"},\n",
    "    theoryid={\"from_\": \"theory\"},\n",
    ")"
   ]
  },
  {
   "cell_type": "code",
   "execution_count": 3,
   "id": "08d0d9a3",
   "metadata": {},
   "outputs": [
    {
     "name": "stdout",
     "output_type": "stream",
     "text": [
      "LHAPDF 6.5.0 loading /home/roy/miniconda3/envs/nnpdf/share/LHAPDF/210718-n3fit-data-003/210718-n3fit-data-003_0000.dat\n",
      "210718-n3fit-data-003 PDF set, member #0, version 1\n",
      "LHAPDF 6.5.0 loading all 101 PDFs in set 210718-n3fit-data-003\n",
      "210718-n3fit-data-003, version 1; 101 PDF members\n"
     ]
    }
   ],
   "source": [
    "# Calculate theory predictions of the input PDF - this is used to construct the ht covmat\n",
    "S_dict = dict(\n",
    "    theorycovmatconfig={\"from_\": \"fit\"},\n",
    "    pdf={\"from_\": \"theorycovmatconfig\"},\n",
    "    use_t0=True,\n",
    "    datacuts={\"from_\": \"fit\"},\n",
    "    t0pdfset={\"from_\": \"datacuts\"},\n",
    ")\n",
    "preds_ht_cov_construction = API.group_result_table_no_table(**(S_dict|common_dict))"
   ]
  },
  {
   "cell_type": "code",
   "execution_count": 4,
   "id": "9c21605b",
   "metadata": {},
   "outputs": [],
   "source": [
    "# Calculate theory predictions of the fit with ht covmat - this will be compared to data\n",
    "preds = API.group_result_table_no_table(pdf={\"from_\": \"fit\"}, **common_dict)"
   ]
  },
  {
   "cell_type": "code",
   "execution_count": 5,
   "id": "aa68cc79",
   "metadata": {},
   "outputs": [],
   "source": [
    "process_info = API.combine_by_type_ht(**(S_dict|common_dict))\n",
    "kin_table = process_info.data\n",
    "kin_df = pd.concat([pd.DataFrame(v) for v in kin_table.values()])\n",
    "dsindex = API.groups_index(**common_dict)\n",
    "kin_df = pd.DataFrame(kin_df.values, index=dsindex, columns=('kin1', 'kin2', 'kin3'))"
   ]
  },
  {
   "cell_type": "code",
   "execution_count": 34,
   "id": "43102371",
   "metadata": {},
   "outputs": [
    {
     "data": {
      "text/plain": [
       "MultiIndex([('DIS NC',   'HERACOMBNCEP920', 108),\n",
       "            ('DIS NC',   'HERACOMBNCEP920', 109),\n",
       "            ('DIS NC',   'HERACOMBNCEP920', 110),\n",
       "            ('DIS NC',   'HERACOMBNCEP920', 111),\n",
       "            ('DIS NC',   'HERACOMBNCEP920', 112),\n",
       "            ('DIS NC',   'HERACOMBNCEP920', 113),\n",
       "            ('DIS NC',   'HERACOMBNCEP920', 114),\n",
       "            ('DIS NC',   'HERACOMBNCEP920', 115),\n",
       "            ('DIS NC',   'HERACOMBNCEP920', 116),\n",
       "            ('DIS NC',   'HERACOMBNCEP920', 117),\n",
       "            ...\n",
       "            ('DIS CC', 'CHORUSNUPb_dw_ite', 596),\n",
       "            ('DIS CC', 'CHORUSNUPb_dw_ite', 597),\n",
       "            ('DIS CC', 'CHORUSNUPb_dw_ite', 598),\n",
       "            ('DIS CC', 'CHORUSNUPb_dw_ite', 599),\n",
       "            ('DIS CC', 'CHORUSNUPb_dw_ite', 600),\n",
       "            ('DIS CC', 'CHORUSNUPb_dw_ite', 601),\n",
       "            ('DIS CC', 'CHORUSNUPb_dw_ite', 602),\n",
       "            ('DIS CC', 'CHORUSNUPb_dw_ite', 604),\n",
       "            ('DIS CC', 'CHORUSNUPb_dw_ite', 605),\n",
       "            ('DIS CC', 'CHORUSNUPb_dw_ite', 606)],\n",
       "           names=['group', 'dataset', 'id'], length=951)"
      ]
     },
     "execution_count": 34,
     "metadata": {},
     "output_type": "execute_result"
    }
   ],
   "source": [
    "common_dict = dict(\n",
    "    dataset_inputs={\"from_\": \"fit\"},\n",
    "    fit=fitname,\n",
    "    fits=[fitname],\n",
    "    use_cuts=\"fromfit\",\n",
    "    metadata_group=\"nnpdf31_process\",\n",
    "    theory={\"from_\": \"fit\"},\n",
    "    theoryid={\"from_\": \"theory\"},\n",
    ")"
   ]
  },
  {
   "cell_type": "markdown",
   "id": "a1c9ee4c",
   "metadata": {},
   "source": [
    "Compute delta_T_tilde (Eq. 3.37) and P_tilde (Eq. 3.38) of arXiv:2105.05114"
   ]
  },
  {
   "cell_type": "code",
   "execution_count": 8,
   "id": "bc820c3b",
   "metadata": {},
   "outputs": [],
   "source": [
    "preds_onlyreplicas = preds.iloc[:, 2:].to_numpy()\n",
    "mean_prediction = np.mean(preds_onlyreplicas,axis=1)\n",
    "\n",
    "X = np.zeros((preds.shape[0],preds.shape[0]))\n",
    "for i in range(preds_onlyreplicas.shape[1]):\n",
    "    X += np.outer(\n",
    "        (preds_onlyreplicas[:, i] - mean_prediction), (preds_onlyreplicas[:, i] - mean_prediction)\n",
    "    )\n",
    "X *= 1 / preds_onlyreplicas.shape[1]"
   ]
  },
  {
   "cell_type": "code",
   "execution_count": 9,
   "id": "4845bf4b",
   "metadata": {},
   "outputs": [],
   "source": [
    "pseudodata = API.read_pdf_pseudodata(**common_dict)\n",
    "dat_central = np.mean(\n",
    "    [i.pseudodata.reindex(preds.index.to_list()).to_numpy().flatten() for i in pseudodata],\n",
    "    axis=0,\n",
    ")"
   ]
  },
  {
   "cell_type": "code",
   "execution_count": 11,
   "id": "800cd4de",
   "metadata": {},
   "outputs": [],
   "source": [
    "# Theory covariance matrix\n",
    "delta_pred = ht_coeff * (preds_ht_cov_construction[\"theory_central\"] / kin_df['kin2'] ** 2 / ( 1 - kin_df['kin1'] )).to_numpy()\n",
    "S = np.outer(delta_pred,delta_pred)\n",
    "S = pd.DataFrame(S,index=dsindex,columns=dsindex)\n",
    "\n",
    "# Experimental covariance matrix\n",
    "C = API.groups_covmat_no_table(**common_dict)"
   ]
  },
  {
   "cell_type": "code",
   "execution_count": 12,
   "id": "a8b5b798",
   "metadata": {},
   "outputs": [],
   "source": [
    "beta_tilde = np.sqrt(ht_coeff / 2) * np.array([1, -1])\n",
    "S_tilde = beta_tilde @ beta_tilde\n",
    "beta = [delta_pred, -delta_pred]\n",
    "S_hat = beta_tilde @ beta\n",
    "\n",
    "invcov = np.linalg.inv(C+S)\n",
    "\n",
    "ht_coeff_central = 0.0\n",
    "delta_T_tilde = S_hat @ invcov @ (dat_central - mean_prediction)\n",
    "P_tilde = S_hat.T @ invcov @ X @ invcov @ S_hat + (S_tilde - S_hat.T @ invcov @ S_hat)\n",
    "pred = ht_coeff_central + delta_T_tilde\n",
    "unc = np.sqrt(P_tilde)"
   ]
  },
  {
   "cell_type": "code",
   "execution_count": 166,
   "id": "f50ade72",
   "metadata": {},
   "outputs": [],
   "source": [
    "fitpath = API.fit(fit=fitname).path\n",
    "try:\n",
    "    stored_covmat = pd.read_csv(\n",
    "        fitpath / \"tables/datacuts_theory_theorycovmatconfig_user_covmat.csv\",\n",
    "        sep=\"\\t\",\n",
    "        encoding=\"utf-8\",\n",
    "        index_col=2,\n",
    "        header=3,\n",
    "        skip_blank_lines=False,\n",
    "    )\n",
    "except FileNotFoundError:\n",
    "    stored_covmat = pd.read_csv(\n",
    "            fitpath / \"tables/datacuts_theory_theorycovmatconfig_theory_covmat_custom.csv\",\n",
    "            index_col=[0, 1, 2],\n",
    "            header=[0, 1, 2], \n",
    "            sep=\"\\t|,\",\n",
    "            engine=\"python\",\n",
    "        ).fillna(0)\n",
    "    storedcovmat_index = pd.MultiIndex.from_tuples(\n",
    "        [(aa, bb, np.int64(cc)) for aa, bb, cc in stored_covmat.index],\n",
    "        names=['group', 'dataset', 'id']\n",
    "    )\n",
    "    stored_covmat = pd.DataFrame(stored_covmat.values, index=storedcovmat_index, columns=storedcovmat_index)\n",
    "    stored_covmat = stored_covmat.reindex(C.index).T.reindex(C.index)\n",
    "if np.allclose(S, stored_covmat):\n",
    "    print(rf\"Prediction for $\\alpha_s$: {pred:.5f} ± {unc:.5f}\")\n",
    "else:\n",
    "    print(\"Reconstructed theory covmat, S, is not the same as the stored covmat!\")"
   ]
  }
 ],
 "metadata": {
  "kernelspec": {
   "display_name": "nnpdf",
   "language": "python",
   "name": "python3"
  },
  "language_info": {
   "codemirror_mode": {
    "name": "ipython",
    "version": 3
   },
   "file_extension": ".py",
   "mimetype": "text/x-python",
   "name": "python",
   "nbconvert_exporter": "python",
   "pygments_lexer": "ipython3",
   "version": "3.10.13"
  },
  "vscode": {
   "interpreter": {
    "hash": "589e3134e9d89160e5ace28972e8dc0b682f48816407b59cbfdad217f6fb745b"
   }
  }
 },
 "nbformat": 4,
 "nbformat_minor": 5
}
