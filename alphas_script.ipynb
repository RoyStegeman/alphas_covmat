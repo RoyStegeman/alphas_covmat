{
 "cells": [
  {
   "cell_type": "markdown",
   "id": "df579a40",
   "metadata": {},
   "source": [
    "# PREAMBLE\n",
    "<script\n",
    "  src=\"https://cdn.mathjax.org/mathjax/latest/MathJax.js?config=TeX-AMS-MML_HTMLorMML\"\n",
    "  type=\"text/javascript\">\n",
    "</script>"
   ]
  },
  {
   "cell_type": "code",
   "execution_count": null,
   "id": "226dc610",
   "metadata": {},
   "outputs": [],
   "source": [
    "import numpy as np\n",
    "import pandas as pd\n",
    "import numpy.linalg as la\n",
    "import seaborn as sns\n",
    "sns.set()\n",
    "sns.set_style(\"ticks\")\n",
    "from validphys.api import API\n",
    "from validphys.loader import Loader\n",
    "from matplotlib import pyplot as plt\n",
    "from matplotlib import cm\n",
    "l = Loader()\n",
    "import yaml"
   ]
  },
  {
   "attachments": {},
   "cell_type": "markdown",
   "id": "85af2b80",
   "metadata": {},
   "source": [
    "# Definition of the input"
   ]
  },
  {
   "cell_type": "code",
   "execution_count": null,
   "id": "377309ca",
   "metadata": {},
   "outputs": [],
   "source": [
    "fit=\"221207-ern-002\"\n",
    "\n",
    "theory_max = 236\n",
    "theory_mid = 205\n",
    "theory_min = 201\n",
    "\n",
    "alphas_step_size = 0.003\n",
    "alphas_central = 0.119\n",
    "\n",
    "covmat_scaling_factor = 1"
   ]
  },
  {
   "cell_type": "markdown",
   "id": "06c28e66",
   "metadata": {},
   "source": [
    "# COMPUTATION OF $\\alpha_s$"
   ]
  },
  {
   "cell_type": "code",
   "execution_count": null,
   "id": "d7dae95b",
   "metadata": {},
   "outputs": [],
   "source": [
    "fitpath = API.fit(fit=fit).path \n",
    "filterpath = fitpath / 'filter.yml'\n",
    "import yaml\n",
    "with open(filterpath) as f:\n",
    "    filterfile = yaml.safe_load(f)\n",
    "pdf_ori=filterfile['theorycovmatconfig']['pdf']"
   ]
  },
  {
   "cell_type": "code",
   "execution_count": null,
   "id": "b2fe9b54",
   "metadata": {},
   "outputs": [],
   "source": [
    "common_dict = dict(dataset_inputs={\"from_\": \"fit\"},\n",
    "            fit=fit,\n",
    "            use_cuts=\"fromfit\",\n",
    "            metadata_group=\"nnpdf31_process\",)"
   ]
  },
  {
   "cell_type": "code",
   "execution_count": null,
   "id": "c9d93689",
   "metadata": {},
   "outputs": [],
   "source": [
    "#Inputs for central theory\n",
    "inps_central = dict(theoryid=theory_mid,pdf=pdf_ori,**common_dict)"
   ]
  },
  {
   "cell_type": "code",
   "execution_count": null,
   "id": "38edc41f",
   "metadata": {},
   "outputs": [],
   "source": [
    "#Inputs for plus theory\n",
    "inps_plus = dict(theoryid=theory_max,pdf=pdf_ori,**common_dict)"
   ]
  },
  {
   "cell_type": "code",
   "execution_count": null,
   "id": "e289c8d4",
   "metadata": {},
   "outputs": [],
   "source": [
    "#Inputs for minus theory\n",
    "inps_minus = dict(theoryid=theory_min,pdf=pdf_ori,**common_dict)"
   ]
  },
  {
   "cell_type": "code",
   "execution_count": null,
   "id": "ecd0a8e5",
   "metadata": {},
   "outputs": [],
   "source": [
    "#Inputs for central theory\n",
    "inps_central_fit = dict(theoryid=theory_mid,pdf={\"from_\": \"fit\"},**common_dict)"
   ]
  },
  {
   "cell_type": "code",
   "execution_count": null,
   "id": "b80a7c03",
   "metadata": {
    "scrolled": true
   },
   "outputs": [],
   "source": [
    "#Experimental covariance matrix\n",
    "C = API.groups_covmat(**inps_central)"
   ]
  },
  {
   "cell_type": "code",
   "execution_count": null,
   "id": "3cf05ac3",
   "metadata": {},
   "outputs": [],
   "source": [
    "dsindex=API.groups_index(**inps_central)"
   ]
  },
  {
   "cell_type": "code",
   "execution_count": null,
   "id": "758cdc8a",
   "metadata": {
    "scrolled": true
   },
   "outputs": [],
   "source": [
    "datth_central = API.group_result_table_no_table(**inps_central)"
   ]
  },
  {
   "cell_type": "code",
   "execution_count": null,
   "id": "17d8f476",
   "metadata": {
    "scrolled": false
   },
   "outputs": [],
   "source": [
    "datth_plus = API.group_result_table_no_table(**inps_plus)"
   ]
  },
  {
   "cell_type": "code",
   "execution_count": null,
   "id": "1ad88c90",
   "metadata": {},
   "outputs": [],
   "source": [
    "datth_minus = API.group_result_table_no_table(**inps_minus)"
   ]
  },
  {
   "cell_type": "code",
   "execution_count": null,
   "id": "c6c904ce",
   "metadata": {},
   "outputs": [],
   "source": [
    "datth_central_fit = API.group_result_table_no_table(**inps_central_fit)"
   ]
  },
  {
   "cell_type": "code",
   "execution_count": null,
   "id": "ed24f68d",
   "metadata": {},
   "outputs": [],
   "source": [
    "dat_central=datth_central[\"data_central\"]\n",
    "th_replicas_fit=datth_central_fit.iloc[:,2:].to_numpy()"
   ]
  },
  {
   "cell_type": "markdown",
   "id": "d4717875",
   "metadata": {},
   "source": [
    "Computation of Eqs.(3.37)-(3.38) in [arXiv:2105.05114](https://arxiv.org/pdf/2105.05114.pdf)"
   ]
  },
  {
   "cell_type": "code",
   "execution_count": null,
   "id": "9438573b",
   "metadata": {},
   "outputs": [],
   "source": [
    "beta_tilde = np.sqrt(covmat_scaling_factor)*(alphas_step_size/np.sqrt(2))*np.array([1,-1])\n",
    "S_tilde = beta_tilde@beta_tilde"
   ]
  },
  {
   "cell_type": "code",
   "execution_count": null,
   "id": "639ca971",
   "metadata": {},
   "outputs": [],
   "source": [
    "delta_plus  = (np.sqrt(covmat_scaling_factor)/np.sqrt(2))*(datth_plus[\"theory_central\"] - datth_central[\"theory_central\"]).to_numpy()\n",
    "delta_minus = (np.sqrt(covmat_scaling_factor)/np.sqrt(2))*(datth_minus[\"theory_central\"] - datth_central[\"theory_central\"]).to_numpy()\n",
    "beta = [delta_plus,delta_minus]\n",
    "S_hat = beta_tilde@beta"
   ]
  },
  {
   "cell_type": "code",
   "execution_count": null,
   "id": "033d6b07",
   "metadata": {},
   "outputs": [],
   "source": [
    "S = np.outer(delta_plus,delta_plus)+np.outer(delta_minus,delta_minus)\n",
    "S = pd.DataFrame(S,index=dsindex,columns=dsindex)\n",
    "S = pd.DataFrame(S.values, index=C.index, columns=C.index)"
   ]
  },
  {
   "cell_type": "code",
   "execution_count": null,
   "id": "b327050e",
   "metadata": {},
   "outputs": [],
   "source": [
    "invcov = la.inv(C+S)"
   ]
  },
  {
   "cell_type": "code",
   "execution_count": null,
   "id": "42348e71",
   "metadata": {},
   "outputs": [],
   "source": [
    "# Different from the prediction of the mean PDF (i.e. replica0)\n",
    "mean_prediction = np.mean(th_replicas_fit[:],axis=1)"
   ]
  },
  {
   "cell_type": "code",
   "execution_count": null,
   "id": "a05e4850",
   "metadata": {},
   "outputs": [],
   "source": [
    "X = np.zeros_like(C.values)\n",
    "for i in range(th_replicas_fit.shape[1]):\n",
    "    X += np.outer((th_replicas_fit[:,i]-mean_prediction),(th_replicas_fit[:,i]-mean_prediction))\n",
    "X *= 1/th_replicas_fit.shape[1]"
   ]
  },
  {
   "cell_type": "markdown",
   "id": "f1c91ed5",
   "metadata": {},
   "source": [
    "Final result"
   ]
  },
  {
   "cell_type": "code",
   "execution_count": null,
   "id": "3b0e8a15",
   "metadata": {},
   "outputs": [],
   "source": [
    "# BUG: dat_central should become average over data replicas\n",
    "delta_T_tilde = S_hat@invcov@(dat_central-mean_prediction)\n",
    "P_tilde = S_hat.T@invcov@X@invcov@S_hat + (S_tilde - S_hat.T@invcov@S_hat)\n",
    "pred = alphas_central + delta_T_tilde\n",
    "unc  = np.sqrt(P_tilde)"
   ]
  },
  {
   "cell_type": "code",
   "execution_count": null,
   "id": "bd00ca41",
   "metadata": {},
   "outputs": [],
   "source": [
    "aa = pd.read_csv(\n",
    "    fitpath / 'tables/datacuts_theory_theorycovmatconfig_theory_covmat_custom.csv', \n",
    "    sep='\\t',encoding='utf-8', index_col=2,header=3,skip_blank_lines=False,\n",
    ");\n",
    "if np.allclose(S.to_numpy(),aa.to_numpy()[:,2:].astype('float64')):\n",
    "    print(rf\"Prediction for $\\alpha_s$: {pred:.5f} +/- {unc:.5f}\")\n",
    "else:\n",
    "    print(\"Reconstructed theory covmat, S, is note the same as the stored covmat!\")"
   ]
  }
 ],
 "metadata": {
  "kernelspec": {
   "display_name": "nnpdf",
   "language": "python",
   "name": "python3"
  },
  "language_info": {
   "codemirror_mode": {
    "name": "ipython",
    "version": 3
   },
   "file_extension": ".py",
   "mimetype": "text/x-python",
   "name": "python",
   "nbconvert_exporter": "python",
   "pygments_lexer": "ipython3",
   "version": "3.8.15 | packaged by conda-forge | (default, Nov 22 2022, 08:49:35) \n[GCC 10.4.0]"
  },
  "vscode": {
   "interpreter": {
    "hash": "589e3134e9d89160e5ace28972e8dc0b682f48816407b59cbfdad217f6fb745b"
   }
  }
 },
 "nbformat": 4,
 "nbformat_minor": 5
}
